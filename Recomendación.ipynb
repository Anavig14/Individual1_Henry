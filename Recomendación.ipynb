{
 "cells": [
  {
   "cell_type": "code",
   "execution_count": 2,
   "metadata": {},
   "outputs": [],
   "source": []
  },
  {
   "cell_type": "code",
   "execution_count": 4,
   "metadata": {},
   "outputs": [
    {
     "name": "stdout",
     "output_type": "stream",
     "text": [
      "['stranger than fiction', 'canadian bacon', 'бой с тенью 2: реванш', 'how to make an american quilt', 'big bully']\n"
     ]
    }
   ],
   "source": [
    "df_movies = pd.read_csv('Exitosas_1990.csv')\n",
    "\n",
    "df_movies['original_title'] = df_movies['original_title'].str.lower().str.replace('[^a-z\\s]', '')\n",
    "\n",
    "tfidf_vectorizer = TfidfVectorizer(stop_words='english')\n",
    "tfidf_matrix = tfidf_vectorizer.fit_transform(df_movies['original_title'])\n",
    "\n",
    "def recomendacion(titulo):\n",
    "    titulo = titulo.lower().replace('[^a-z\\s]', '')\n",
    "    titulo_vector = tfidf_vectorizer.transform([titulo]) # Para vectorizar el titulo ingresado\n",
    "    cosine_similarities = cosine_similarity(titulo_vector, tfidf_matrix).flatten() #Calcula similitud\n",
    "    similar_indices = cosine_similarities.argsort()[-6:-1][::-1]  # Obtener los 5 titulos más similares\n",
    "    similar_titles = df_movies['original_title'].iloc[similar_indices].tolist()\n",
    "    return similar_titles"
   ]
  },
  {
   "cell_type": "code",
   "execution_count": null,
   "metadata": {},
   "outputs": [],
   "source": [
    "print(recomendacion('Inception'))"
   ]
  },
  {
   "cell_type": "code",
   "execution_count": null,
   "metadata": {},
   "outputs": [],
   "source": [
    "print(recomendacion('The Matrix'))"
   ]
  },
  {
   "cell_type": "code",
   "execution_count": null,
   "metadata": {},
   "outputs": [],
   "source": [
    "print(recomendacion('The Shawshank Redemption'))"
   ]
  },
  {
   "cell_type": "code",
   "execution_count": null,
   "metadata": {},
   "outputs": [],
   "source": [
    "print(recomendacion('Pulp Fiction'))"
   ]
  }
 ],
 "metadata": {
  "kernelspec": {
   "display_name": "Python 3",
   "language": "python",
   "name": "python3"
  },
  "language_info": {
   "codemirror_mode": {
    "name": "ipython",
    "version": 3
   },
   "file_extension": ".py",
   "mimetype": "text/x-python",
   "name": "python",
   "nbconvert_exporter": "python",
   "pygments_lexer": "ipython3",
   "version": "3.10.11"
  }
 },
 "nbformat": 4,
 "nbformat_minor": 2
}
