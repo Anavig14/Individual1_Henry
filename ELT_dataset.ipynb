{
 "cells": [
  {
   "cell_type": "markdown",
   "metadata": {},
   "source": [
    "# EXTRACCION, TRANSFORMACIÓN Y LIMPIEZA \n",
    "\n",
    "## Base de datos: Movies"
   ]
  },
  {
   "cell_type": "markdown",
   "metadata": {},
   "source": [
    "Se utiliza la libreria de pandas para dar inicio a la estracción y tratamiento de los datos."
   ]
  },
  {
   "cell_type": "code",
   "execution_count": 4,
   "metadata": {},
   "outputs": [],
   "source": [
    "import pandas as pd\n",
    "import numpy as np\n",
    "import json\n",
    "import ast\n",
    "import os"
   ]
  },
  {
   "cell_type": "markdown",
   "metadata": {},
   "source": [
    "Inicio la extracción, primero del detaset \"movies\" y luego del dataset \"credits\" para despues unirlos. "
   ]
  },
  {
   "cell_type": "code",
   "execution_count": 5,
   "metadata": {},
   "outputs": [
    {
     "name": "stderr",
     "output_type": "stream",
     "text": [
<<<<<<< HEAD
      "C:\\Users\\anavi\\AppData\\Local\\Temp\\ipykernel_27660\\131553651.py:2: DtypeWarning: Columns (10) have mixed types. Specify dtype option on import or set low_memory=False.\n",
=======
      "C:\\Users\\anavi\\AppData\\Local\\Temp\\ipykernel_5696\\131553651.py:2: DtypeWarning: Columns (10) have mixed types. Specify dtype option on import or set low_memory=False.\n",
>>>>>>> 1b85f449f54232d87a6cc6603ff7a84d03f8648b
      "  df_movies = pd.read_csv('C:\\\\Users\\\\anavi\\\\OneDrive\\\\Escritorio\\\\Henry\\\\P1 individual\\\\Dataset original\\\\movies_dataset.csv')\n"
     ]
    },
    {
     "data": {
      "text/plain": [
       "(45466, 24)"
      ]
     },
     "execution_count": 5,
     "metadata": {},
     "output_type": "execute_result"
    }
   ],
   "source": [
    "# Extraigo el dataset \"movies\" y reviso el tamaño\n",
    "df_movies = pd.read_csv('C:\\\\Users\\\\anavi\\\\OneDrive\\\\Escritorio\\\\Henry\\\\P1 individual\\\\Dataset original\\\\movies_dataset.csv')\n",
    "df_movies.shape"
   ]
  },
  {
   "cell_type": "code",
   "execution_count": 6,
   "metadata": {},
   "outputs": [
    {
     "data": {
      "text/plain": [
       "(45476, 3)"
      ]
     },
     "execution_count": 6,
     "metadata": {},
     "output_type": "execute_result"
    }
   ],
   "source": [
    "# Extraigo los dataset \"credits\" y reviso el tamaño\n",
    "df_credits = pd.read_csv('C:\\\\Users\\\\anavi\\\\OneDrive\\\\Escritorio\\\\Henry\\\\P1 individual\\\\Dataset original\\\\credits.csv')\n",
    "df_credits.shape"
   ]
  },
  {
   "cell_type": "code",
   "execution_count": 7,
   "metadata": {},
   "outputs": [
    {
     "name": "stdout",
     "output_type": "stream",
     "text": [
      "Tamaño movies: 32.85 MB y tamaño credits: 181.12 MB\n"
     ]
    }
   ],
   "source": [
    "# Quiero saber el tamaño de mi dataset para reducirlo hasta llegar a 100 megas\n",
    "tamaño1 = os.path.getsize('C:\\\\Users\\\\anavi\\\\OneDrive\\\\Escritorio\\\\Henry\\\\P1 individual\\\\Dataset original\\\\movies_dataset.csv')\n",
    "tamaño2 = os.path.getsize('C:\\\\Users\\\\anavi\\\\OneDrive\\\\Escritorio\\\\Henry\\\\P1 individual\\\\Dataset original\\\\credits.csv')\n",
    "\n",
    "print(f\"Tamaño movies: {tamaño1 / (1024 * 1024):.2f} MB y tamaño credits: {tamaño2 / (1024 * 1024):.2f} MB\")"
   ]
  },
  {
   "cell_type": "markdown",
   "metadata": {},
   "source": [
    "Como veo que el dataset credits es mucho más grande que el dataset movies entonces empiezo limpiandolo para reducirlo al máximo."
   ]
  },
  {
   "cell_type": "code",
   "execution_count": 8,
   "metadata": {},
   "outputs": [
    {
     "data": {
      "text/plain": [
       "(73, 3)"
      ]
     },
     "execution_count": 8,
     "metadata": {},
     "output_type": "execute_result"
    }
   ],
   "source": [
    "df_credits[df_credits.duplicated(keep=False)].shape # Verifico si hay datos duplicados para eliminarlos posteriormente"
   ]
  },
  {
   "cell_type": "code",
   "execution_count": 9,
   "metadata": {},
   "outputs": [
    {
     "name": "stdout",
     "output_type": "stream",
     "text": [
      "El tamaño del dataset es de 256.51 MB.\n"
     ]
    }
   ],
   "source": [
    "tamaño_en_bytes = df_credits.memory_usage(deep=True).sum()\n",
    "\n",
    "# Convertir a megabytes\n",
    "tamaño_en_megabytes = tamaño_en_bytes / (1024 ** 2)\n",
    "\n",
    "print(f\"El tamaño del dataset es de {tamaño_en_megabytes:.2f} MB.\")"
   ]
  },
  {
   "cell_type": "code",
   "execution_count": 10,
   "metadata": {},
   "outputs": [
    {
     "data": {
      "text/plain": [
       "(0, 3)"
      ]
     },
     "execution_count": 10,
     "metadata": {},
     "output_type": "execute_result"
    }
   ],
   "source": [
    "df_credits = df_credits.drop_duplicates() # Elimino los datos duplicados en mi dataset original\n",
    "df_credits[df_credits.duplicated(keep=False)].shape #Verifico que hayan quedado eliminados"
   ]
  },
  {
   "cell_type": "code",
   "execution_count": 11,
   "metadata": {},
   "outputs": [
    {
     "data": {
      "text/plain": [
       "Index(['cast', 'crew', 'id'], dtype='object')"
      ]
     },
     "execution_count": 11,
     "metadata": {},
     "output_type": "execute_result"
    }
   ],
   "source": [
    "df_credits.columns # Verifico que columnas existen en mi data set"
   ]
  },
  {
   "cell_type": "code",
   "execution_count": 12,
   "metadata": {},
   "outputs": [
    {
     "data": {
      "text/html": [
       "<div>\n",
       "<style scoped>\n",
       "    .dataframe tbody tr th:only-of-type {\n",
       "        vertical-align: middle;\n",
       "    }\n",
       "\n",
       "    .dataframe tbody tr th {\n",
       "        vertical-align: top;\n",
       "    }\n",
       "\n",
       "    .dataframe thead th {\n",
       "        text-align: right;\n",
       "    }\n",
       "</style>\n",
       "<table border=\"1\" class=\"dataframe\">\n",
       "  <thead>\n",
       "    <tr style=\"text-align: right;\">\n",
       "      <th></th>\n",
       "      <th>cast</th>\n",
       "      <th>crew</th>\n",
       "      <th>id</th>\n",
       "    </tr>\n",
       "  </thead>\n",
       "  <tbody>\n",
       "    <tr>\n",
       "      <th>0</th>\n",
       "      <td>[{'cast_id': 14, 'character': 'Woody (voice)',...</td>\n",
       "      <td>[{'credit_id': '52fe4284c3a36847f8024f49', 'de...</td>\n",
       "      <td>862</td>\n",
       "    </tr>\n",
       "    <tr>\n",
       "      <th>1</th>\n",
       "      <td>[{'cast_id': 1, 'character': 'Alan Parrish', '...</td>\n",
       "      <td>[{'credit_id': '52fe44bfc3a36847f80a7cd1', 'de...</td>\n",
       "      <td>8844</td>\n",
       "    </tr>\n",
       "    <tr>\n",
       "      <th>2</th>\n",
       "      <td>[{'cast_id': 2, 'character': 'Max Goldman', 'c...</td>\n",
       "      <td>[{'credit_id': '52fe466a9251416c75077a89', 'de...</td>\n",
       "      <td>15602</td>\n",
       "    </tr>\n",
       "    <tr>\n",
       "      <th>3</th>\n",
       "      <td>[{'cast_id': 1, 'character': \"Savannah 'Vannah...</td>\n",
       "      <td>[{'credit_id': '52fe44779251416c91011acb', 'de...</td>\n",
       "      <td>31357</td>\n",
       "    </tr>\n",
       "    <tr>\n",
       "      <th>4</th>\n",
       "      <td>[{'cast_id': 1, 'character': 'George Banks', '...</td>\n",
       "      <td>[{'credit_id': '52fe44959251416c75039ed7', 'de...</td>\n",
       "      <td>11862</td>\n",
       "    </tr>\n",
       "  </tbody>\n",
       "</table>\n",
       "</div>"
      ],
      "text/plain": [
       "                                                cast  \\\n",
       "0  [{'cast_id': 14, 'character': 'Woody (voice)',...   \n",
       "1  [{'cast_id': 1, 'character': 'Alan Parrish', '...   \n",
       "2  [{'cast_id': 2, 'character': 'Max Goldman', 'c...   \n",
       "3  [{'cast_id': 1, 'character': \"Savannah 'Vannah...   \n",
       "4  [{'cast_id': 1, 'character': 'George Banks', '...   \n",
       "\n",
       "                                                crew     id  \n",
       "0  [{'credit_id': '52fe4284c3a36847f8024f49', 'de...    862  \n",
       "1  [{'credit_id': '52fe44bfc3a36847f80a7cd1', 'de...   8844  \n",
       "2  [{'credit_id': '52fe466a9251416c75077a89', 'de...  15602  \n",
       "3  [{'credit_id': '52fe44779251416c91011acb', 'de...  31357  \n",
       "4  [{'credit_id': '52fe44959251416c75039ed7', 'de...  11862  "
      ]
     },
     "execution_count": 12,
     "metadata": {},
     "output_type": "execute_result"
    }
   ],
   "source": [
    "df_credits.head()"
   ]
  },
  {
   "cell_type": "markdown",
   "metadata": {},
   "source": [
    "Mi dataset tiene dos columas. La primera contiene el elenco \"cast\" y la segunda contiene los nombres del equipo \"crew\". Voy a empezar por depurar la columna \"cast\" y dejar unicamente 5 actores principales, respetando el orden en el que vienen."
   ]
  },
  {
   "cell_type": "code",
   "execution_count": 13,
   "metadata": {},
   "outputs": [
    {
     "data": {
      "text/plain": [
       "str"
      ]
     },
     "execution_count": 13,
     "metadata": {},
     "output_type": "execute_result"
    }
   ],
   "source": [
    "type(df_credits['cast'][0]) # se verifica el tipo de datos, deben ser listas o dicccionarios para poder normalizarlos"
   ]
  },
  {
   "cell_type": "code",
   "execution_count": 14,
   "metadata": {},
   "outputs": [
    {
     "data": {
      "text/plain": [
       "list"
      ]
     },
     "execution_count": 14,
     "metadata": {},
     "output_type": "execute_result"
    }
   ],
   "source": [
    "#Se convierte el tipo de datos de String a Diccionario o lista\n",
    "\n",
    "def convertir_a_diccionario(cadena):\n",
    "    try:\n",
    "        return ast.literal_eval(cadena)\n",
    "    except (ValueError, SyntaxError):\n",
    "        return None  # O cualquier valor predeterminado para manejar errores\n",
    "\n",
    "# Aplicar la conversión a la columna\n",
    "df_credits['cast'] = df_credits['cast'].apply(convertir_a_diccionario)\n",
    "\n",
    "type(df_credits['cast'][0])"
   ]
  },
  {
   "cell_type": "code",
   "execution_count": 15,
   "metadata": {},
   "outputs": [
    {
     "data": {
      "text/plain": [
       "array([<class 'list'>], dtype=object)"
      ]
     },
     "execution_count": 15,
     "metadata": {},
     "output_type": "execute_result"
    }
   ],
   "source": [
    "# Se muestran los tipos de datos únicos en la columnas\n",
    "\n",
    "df_credits['cast'].apply(type).unique()"
   ]
  },
  {
   "cell_type": "code",
   "execution_count": 16,
   "metadata": {},
   "outputs": [],
   "source": [
    "# Crear la función normalize_entry para procesar y normalizar diferentes tipos de datos en una entrada dentro de un DataFrame (diccionarios y listas de diccionarios)\n",
    "def normalize_entry(entry):\n",
    "    if isinstance(entry, dict):\n",
    "        return pd.json_normalize(entry)\n",
    "    elif isinstance(entry, list) and all(isinstance(i, dict) for i in entry):\n",
    "        return pd.json_normalize(entry)\n",
    "    else:\n",
    "        return pd.DataFrame()  # Retorna un DataFrame vacío para valores que no son diccionarios ni listas de diccionarios\n",
    "\n",
    "# Se crea una lista para almacenar los DataFrames expandidos\n",
    "expanded_dfs = []\n",
    "\n",
    "# Iterar sobre cada fila del DataFrame original\n",
    "for idx, row in df_credits.iterrows():\n",
    "    entry = row['cast']\n",
    "    normalized_df = normalize_entry(entry)\n",
    "    normalized_df['id'] = row['id']  # Añadir la columna 'id'\n",
    "    normalized_df['order'] = range(1, len(normalized_df) + 1)  # Añadir la columna 'order'\n",
    "    expanded_dfs.append(normalized_df)\n",
    "\n",
    "# Concatenar todos los DataFrames expandidos en uno solo\n",
    "df_cast = pd.concat(expanded_dfs, ignore_index=True)"
   ]
  },
  {
   "cell_type": "code",
   "execution_count": 17,
   "metadata": {},
   "outputs": [
    {
     "data": {
      "text/plain": [
       "Index(['cast_id', 'character', 'credit_id', 'gender', 'id', 'name', 'order',\n",
       "       'profile_path'],\n",
       "      dtype='object')"
      ]
     },
     "execution_count": 17,
     "metadata": {},
     "output_type": "execute_result"
    }
   ],
   "source": [
    "df_cast.columns #Para verificar las columnas existentes en el nuevo data frame"
   ]
  },
  {
   "cell_type": "code",
   "execution_count": 18,
   "metadata": {},
   "outputs": [
    {
     "data": {
      "text/plain": [
       "(562132, 8)"
      ]
     },
     "execution_count": 18,
     "metadata": {},
     "output_type": "execute_result"
    }
   ],
   "source": [
    "df_cast.shape #Para verificar el tamaño del nuevo data frame"
   ]
  },
  {
   "cell_type": "code",
   "execution_count": 19,
   "metadata": {},
   "outputs": [],
   "source": [
    "df_cast = df_cast[df_cast['order'].between(1, 5)] # Filtrar los primeros 5 actores y eliminar el resto"
   ]
  },
  {
   "cell_type": "code",
   "execution_count": 20,
   "metadata": {},
   "outputs": [
    {
     "data": {
      "text/html": [
       "<div>\n",
       "<style scoped>\n",
       "    .dataframe tbody tr th:only-of-type {\n",
       "        vertical-align: middle;\n",
       "    }\n",
       "\n",
       "    .dataframe tbody tr th {\n",
       "        vertical-align: top;\n",
       "    }\n",
       "\n",
       "    .dataframe thead th {\n",
       "        text-align: right;\n",
       "    }\n",
       "</style>\n",
       "<table border=\"1\" class=\"dataframe\">\n",
       "  <thead>\n",
       "    <tr style=\"text-align: right;\">\n",
       "      <th></th>\n",
       "      <th>cast_id</th>\n",
       "      <th>character</th>\n",
       "      <th>credit_id</th>\n",
       "      <th>gender</th>\n",
       "      <th>id</th>\n",
       "      <th>name</th>\n",
       "      <th>order</th>\n",
       "      <th>profile_path</th>\n",
       "    </tr>\n",
       "  </thead>\n",
       "  <tbody>\n",
       "    <tr>\n",
       "      <th>562112</th>\n",
       "      <td>6.0</td>\n",
       "      <td>Emily Shaw</td>\n",
       "      <td>52fe4776c3a368484e0c83a3</td>\n",
       "      <td>1.0</td>\n",
       "      <td>67758</td>\n",
       "      <td>Erika Eleniak</td>\n",
       "      <td>1</td>\n",
       "      <td>/7ZdUGY78qpB2MkTzAQvYEYzncwN.jpg</td>\n",
       "    </tr>\n",
       "    <tr>\n",
       "      <th>562113</th>\n",
       "      <td>7.0</td>\n",
       "      <td>Det. Mark Winston</td>\n",
       "      <td>52fe4776c3a368484e0c83a7</td>\n",
       "      <td>2.0</td>\n",
       "      <td>67758</td>\n",
       "      <td>Adam Baldwin</td>\n",
       "      <td>2</td>\n",
       "      <td>/vhZ8AD36h09mBLuyIXboglRLgIu.jpg</td>\n",
       "    </tr>\n",
       "    <tr>\n",
       "      <th>562114</th>\n",
       "      <td>8.0</td>\n",
       "      <td>Jayne Ferré</td>\n",
       "      <td>52fe4776c3a368484e0c83ab</td>\n",
       "      <td>1.0</td>\n",
       "      <td>67758</td>\n",
       "      <td>Julie du Page</td>\n",
       "      <td>3</td>\n",
       "      <td>/gBLzn3Z2S7Hx7A0stZBi7mk9fpD.jpg</td>\n",
       "    </tr>\n",
       "    <tr>\n",
       "      <th>562115</th>\n",
       "      <td>10.0</td>\n",
       "      <td>Alex Tyler</td>\n",
       "      <td>52fe4776c3a368484e0c83b3</td>\n",
       "      <td>2.0</td>\n",
       "      <td>67758</td>\n",
       "      <td>James Remar</td>\n",
       "      <td>4</td>\n",
       "      <td>/AeSuQlBclvWqztlpkf9nIhvvhsc.jpg</td>\n",
       "    </tr>\n",
       "    <tr>\n",
       "      <th>562116</th>\n",
       "      <td>11.0</td>\n",
       "      <td>Tony</td>\n",
       "      <td>52fe4776c3a368484e0c83b7</td>\n",
       "      <td>2.0</td>\n",
       "      <td>67758</td>\n",
       "      <td>Damian Chapa</td>\n",
       "      <td>5</td>\n",
       "      <td>/e00LyDBIhDOFWgwfSU0wCTLL4ax.jpg</td>\n",
       "    </tr>\n",
       "    <tr>\n",
       "      <th>562127</th>\n",
       "      <td>2.0</td>\n",
       "      <td></td>\n",
       "      <td>52fe4ea59251416c7515d7d5</td>\n",
       "      <td>2.0</td>\n",
       "      <td>227506</td>\n",
       "      <td>Iwan Mosschuchin</td>\n",
       "      <td>1</td>\n",
       "      <td>None</td>\n",
       "    </tr>\n",
       "    <tr>\n",
       "      <th>562128</th>\n",
       "      <td>3.0</td>\n",
       "      <td></td>\n",
       "      <td>52fe4ea59251416c7515d7d9</td>\n",
       "      <td>1.0</td>\n",
       "      <td>227506</td>\n",
       "      <td>Nathalie Lissenko</td>\n",
       "      <td>2</td>\n",
       "      <td>None</td>\n",
       "    </tr>\n",
       "    <tr>\n",
       "      <th>562129</th>\n",
       "      <td>4.0</td>\n",
       "      <td></td>\n",
       "      <td>52fe4ea59251416c7515d7dd</td>\n",
       "      <td>2.0</td>\n",
       "      <td>227506</td>\n",
       "      <td>Pavel Pavlov</td>\n",
       "      <td>3</td>\n",
       "      <td>None</td>\n",
       "    </tr>\n",
       "    <tr>\n",
       "      <th>562130</th>\n",
       "      <td>5.0</td>\n",
       "      <td></td>\n",
       "      <td>52fe4ea59251416c7515d7e1</td>\n",
       "      <td>0.0</td>\n",
       "      <td>227506</td>\n",
       "      <td>Aleksandr Chabrov</td>\n",
       "      <td>4</td>\n",
       "      <td>None</td>\n",
       "    </tr>\n",
       "    <tr>\n",
       "      <th>562131</th>\n",
       "      <td>6.0</td>\n",
       "      <td></td>\n",
       "      <td>52fe4ea59251416c7515d7e5</td>\n",
       "      <td>1.0</td>\n",
       "      <td>227506</td>\n",
       "      <td>Vera Orlova</td>\n",
       "      <td>5</td>\n",
       "      <td>/n1NXVGNzNxtqsMWxLT1h8GO8Kpi.jpg</td>\n",
       "    </tr>\n",
       "  </tbody>\n",
       "</table>\n",
       "</div>"
      ],
      "text/plain": [
       "        cast_id          character                 credit_id  gender      id  \\\n",
       "562112      6.0         Emily Shaw  52fe4776c3a368484e0c83a3     1.0   67758   \n",
       "562113      7.0  Det. Mark Winston  52fe4776c3a368484e0c83a7     2.0   67758   \n",
       "562114      8.0        Jayne Ferré  52fe4776c3a368484e0c83ab     1.0   67758   \n",
       "562115     10.0         Alex Tyler  52fe4776c3a368484e0c83b3     2.0   67758   \n",
       "562116     11.0               Tony  52fe4776c3a368484e0c83b7     2.0   67758   \n",
       "562127      2.0                     52fe4ea59251416c7515d7d5     2.0  227506   \n",
       "562128      3.0                     52fe4ea59251416c7515d7d9     1.0  227506   \n",
       "562129      4.0                     52fe4ea59251416c7515d7dd     2.0  227506   \n",
       "562130      5.0                     52fe4ea59251416c7515d7e1     0.0  227506   \n",
       "562131      6.0                     52fe4ea59251416c7515d7e5     1.0  227506   \n",
       "\n",
       "                     name  order                      profile_path  \n",
       "562112      Erika Eleniak      1  /7ZdUGY78qpB2MkTzAQvYEYzncwN.jpg  \n",
       "562113       Adam Baldwin      2  /vhZ8AD36h09mBLuyIXboglRLgIu.jpg  \n",
       "562114      Julie du Page      3  /gBLzn3Z2S7Hx7A0stZBi7mk9fpD.jpg  \n",
       "562115        James Remar      4  /AeSuQlBclvWqztlpkf9nIhvvhsc.jpg  \n",
       "562116       Damian Chapa      5  /e00LyDBIhDOFWgwfSU0wCTLL4ax.jpg  \n",
       "562127   Iwan Mosschuchin      1                              None  \n",
       "562128  Nathalie Lissenko      2                              None  \n",
       "562129       Pavel Pavlov      3                              None  \n",
       "562130  Aleksandr Chabrov      4                              None  \n",
       "562131        Vera Orlova      5  /n1NXVGNzNxtqsMWxLT1h8GO8Kpi.jpg  "
      ]
     },
     "execution_count": 20,
     "metadata": {},
     "output_type": "execute_result"
    }
   ],
   "source": [
    "df_cast.tail(10)"
   ]
  },
  {
   "cell_type": "code",
   "execution_count": 21,
   "metadata": {},
   "outputs": [],
   "source": [
    "df_cast = df_cast[['id'] + [col for col in df_cast.columns if col != 'id']] #Dejo de primera la columna \"id\"\n",
    "df_cast = df_cast.drop(columns=['credit_id', 'gender', 'cast_id', 'profile_path']) #Elimino las columnas innecesarias"
   ]
  },
  {
   "cell_type": "code",
   "execution_count": 22,
   "metadata": {},
   "outputs": [],
   "source": [
    "df_cast['order'] = df_cast['order'].apply(lambda x: f\"Character {x}\")\n",
    "df_cast.rename(columns={'id': 'Id', 'name': 'Name', 'character': 'Name Character', 'order': 'Rol'}, inplace=True)\n"
   ]
  },
  {
   "cell_type": "code",
   "execution_count": 23,
   "metadata": {},
   "outputs": [
    {
     "data": {
      "text/plain": [
       "(202338, 4)"
      ]
     },
     "execution_count": 23,
     "metadata": {},
     "output_type": "execute_result"
    }
   ],
   "source": [
    "df_cast.shape #Para verificar el tamaño nuevamente"
   ]
  },
  {
   "cell_type": "code",
   "execution_count": 24,
   "metadata": {},
   "outputs": [
    {
     "data": {
      "text/html": [
       "<div>\n",
       "<style scoped>\n",
       "    .dataframe tbody tr th:only-of-type {\n",
       "        vertical-align: middle;\n",
       "    }\n",
       "\n",
       "    .dataframe tbody tr th {\n",
       "        vertical-align: top;\n",
       "    }\n",
       "\n",
       "    .dataframe thead th {\n",
       "        text-align: right;\n",
       "    }\n",
       "</style>\n",
       "<table border=\"1\" class=\"dataframe\">\n",
       "  <thead>\n",
       "    <tr style=\"text-align: right;\">\n",
       "      <th></th>\n",
       "      <th>Id</th>\n",
       "      <th>Name Character</th>\n",
       "      <th>Name</th>\n",
       "      <th>Rol</th>\n",
       "    </tr>\n",
       "  </thead>\n",
       "  <tbody>\n",
       "    <tr>\n",
       "      <th>0</th>\n",
       "      <td>862</td>\n",
       "      <td>Woody (voice)</td>\n",
       "      <td>Tom Hanks</td>\n",
       "      <td>Character 1</td>\n",
       "    </tr>\n",
       "    <tr>\n",
       "      <th>1</th>\n",
       "      <td>862</td>\n",
       "      <td>Buzz Lightyear (voice)</td>\n",
       "      <td>Tim Allen</td>\n",
       "      <td>Character 2</td>\n",
       "    </tr>\n",
       "    <tr>\n",
       "      <th>2</th>\n",
       "      <td>862</td>\n",
       "      <td>Mr. Potato Head (voice)</td>\n",
       "      <td>Don Rickles</td>\n",
       "      <td>Character 3</td>\n",
       "    </tr>\n",
       "    <tr>\n",
       "      <th>3</th>\n",
       "      <td>862</td>\n",
       "      <td>Slinky Dog (voice)</td>\n",
       "      <td>Jim Varney</td>\n",
       "      <td>Character 4</td>\n",
       "    </tr>\n",
       "    <tr>\n",
       "      <th>4</th>\n",
       "      <td>862</td>\n",
       "      <td>Rex (voice)</td>\n",
       "      <td>Wallace Shawn</td>\n",
       "      <td>Character 5</td>\n",
       "    </tr>\n",
       "    <tr>\n",
       "      <th>13</th>\n",
       "      <td>8844</td>\n",
       "      <td>Alan Parrish</td>\n",
       "      <td>Robin Williams</td>\n",
       "      <td>Character 1</td>\n",
       "    </tr>\n",
       "    <tr>\n",
       "      <th>14</th>\n",
       "      <td>8844</td>\n",
       "      <td>Samuel Alan Parrish / Van Pelt</td>\n",
       "      <td>Jonathan Hyde</td>\n",
       "      <td>Character 2</td>\n",
       "    </tr>\n",
       "    <tr>\n",
       "      <th>15</th>\n",
       "      <td>8844</td>\n",
       "      <td>Judy Sheperd</td>\n",
       "      <td>Kirsten Dunst</td>\n",
       "      <td>Character 3</td>\n",
       "    </tr>\n",
       "    <tr>\n",
       "      <th>16</th>\n",
       "      <td>8844</td>\n",
       "      <td>Peter Shepherd</td>\n",
       "      <td>Bradley Pierce</td>\n",
       "      <td>Character 4</td>\n",
       "    </tr>\n",
       "    <tr>\n",
       "      <th>17</th>\n",
       "      <td>8844</td>\n",
       "      <td>Sarah Whittle</td>\n",
       "      <td>Bonnie Hunt</td>\n",
       "      <td>Character 5</td>\n",
       "    </tr>\n",
       "  </tbody>\n",
       "</table>\n",
       "</div>"
      ],
      "text/plain": [
       "      Id                  Name Character            Name          Rol\n",
       "0    862                   Woody (voice)       Tom Hanks  Character 1\n",
       "1    862          Buzz Lightyear (voice)       Tim Allen  Character 2\n",
       "2    862         Mr. Potato Head (voice)     Don Rickles  Character 3\n",
       "3    862              Slinky Dog (voice)      Jim Varney  Character 4\n",
       "4    862                     Rex (voice)   Wallace Shawn  Character 5\n",
       "13  8844                    Alan Parrish  Robin Williams  Character 1\n",
       "14  8844  Samuel Alan Parrish / Van Pelt   Jonathan Hyde  Character 2\n",
       "15  8844                    Judy Sheperd   Kirsten Dunst  Character 3\n",
       "16  8844                  Peter Shepherd  Bradley Pierce  Character 4\n",
       "17  8844                   Sarah Whittle     Bonnie Hunt  Character 5"
      ]
     },
     "execution_count": 24,
     "metadata": {},
     "output_type": "execute_result"
    }
   ],
   "source": [
    "df_cast.head(10)"
   ]
  },
  {
   "cell_type": "code",
   "execution_count": 25,
   "metadata": {},
   "outputs": [
    {
     "data": {
      "text/plain": [
       "(202338, 4)"
      ]
     },
     "execution_count": 25,
     "metadata": {},
     "output_type": "execute_result"
    }
   ],
   "source": [
    "df_cast.shape"
   ]
  },
  {
   "cell_type": "code",
   "execution_count": 26,
   "metadata": {},
   "outputs": [
    {
     "name": "stdout",
     "output_type": "stream",
     "text": [
      "El DataFrame utiliza aproximadamente 43.36 MB de memoria.\n"
     ]
    }
   ],
   "source": [
    "# Calcular el uso de memoria del DataFrame en bytes\n",
    "uso_memoria = df_cast.memory_usage(deep=True).sum()\n",
    "\n",
    "# Convertir el uso de memoria a megabytes\n",
    "uso_memoria_mb = uso_memoria / (1024 * 1024)\n",
    "\n",
    "print(f\"El DataFrame utiliza aproximadamente {uso_memoria_mb:.2f} MB de memoria.\")\n"
   ]
  },
  {
   "cell_type": "code",
   "execution_count": 27,
   "metadata": {},
   "outputs": [
    {
     "name": "stdout",
     "output_type": "stream",
     "text": [
      "El tamaño del dataset es de 43.36 MB.\n"
     ]
    }
   ],
   "source": [
    "tamaño_en_bytes = df_cast.memory_usage(deep=True).sum()\n",
    "\n",
    "# Convertir a megabytes\n",
    "tamaño_en_megabytes = tamaño_en_bytes / (1024 ** 2)\n",
    "\n",
    "print(f\"El tamaño del dataset es de {tamaño_en_megabytes:.2f} MB.\")"
   ]
  },
  {
   "cell_type": "markdown",
   "metadata": {},
   "source": [
    "Una vez eliminadas las celdas que no se van a usar de la columna cast y creado un data set con este nombre, se procede a trabajar con la columna \"Crew\" de la cual solo se va a conservar el Director. "
   ]
  },
  {
   "cell_type": "code",
   "execution_count": 28,
   "metadata": {},
   "outputs": [
    {
     "data": {
      "text/plain": [
       "0    [{'credit_id': '52fe4284c3a36847f8024f49', 'de...\n",
       "1    [{'credit_id': '52fe44bfc3a36847f80a7cd1', 'de...\n",
       "2    [{'credit_id': '52fe466a9251416c75077a89', 'de...\n",
       "3    [{'credit_id': '52fe44779251416c91011acb', 'de...\n",
       "4    [{'credit_id': '52fe44959251416c75039ed7', 'de...\n",
       "Name: crew, dtype: object"
      ]
     },
     "execution_count": 28,
     "metadata": {},
     "output_type": "execute_result"
    }
   ],
   "source": [
    "df_credits['crew'].head()"
   ]
  },
  {
   "cell_type": "code",
   "execution_count": 29,
   "metadata": {},
   "outputs": [
    {
     "data": {
      "text/plain": [
       "list"
      ]
     },
     "execution_count": 29,
     "metadata": {},
     "output_type": "execute_result"
    }
   ],
   "source": [
    "#Se convierte el tipo de datos de String a Diccionario\n",
    "\n",
    "def convertir_a_diccionario(cadena):\n",
    "    try:\n",
    "        return ast.literal_eval(cadena)\n",
    "    except (ValueError, SyntaxError):\n",
    "        return None  # O cualquier valor predeterminado para manejar errores\n",
    "\n",
    "# Aplicar la conversión a la columna\n",
    "df_credits['crew'] = df_credits ['crew'].apply(convertir_a_diccionario)\n",
    "\n",
    "type(df_credits['crew'][0])"
   ]
  },
  {
   "cell_type": "code",
   "execution_count": 30,
   "metadata": {},
   "outputs": [
    {
     "data": {
      "text/plain": [
       "array([<class 'list'>], dtype=object)"
      ]
     },
     "execution_count": 30,
     "metadata": {},
     "output_type": "execute_result"
    }
   ],
   "source": [
    "# Se muestran los tipos de datos únicos en la columna\n",
    "\n",
    "df_credits['crew'].apply(type).unique()"
   ]
  },
  {
   "cell_type": "code",
   "execution_count": 31,
   "metadata": {},
   "outputs": [],
   "source": [
    "# Crear la función normalize_entry para procesar y normalizar diferentes tipos de datos en una entrada dentro de un DataFrame (diccionarios y listas de diccionarios)\n",
    "def normalize_entry(entry):\n",
    "    if isinstance(entry, dict):\n",
    "        return pd.json_normalize(entry)\n",
    "    elif isinstance(entry, list) and all(isinstance(i, dict) for i in entry):\n",
    "        return pd.json_normalize(entry)\n",
    "    else:\n",
    "        return pd.DataFrame()  # Retorna un DataFrame vacío para valores que no son diccionarios ni listas de diccionarios\n",
    "\n",
    "# Se crea una lista para almacenar los DataFrames expandidos\n",
    "expanded_dfs = []\n",
    "\n",
    "# Iterar sobre cada fila del DataFrame original\n",
    "for idx, row in df_credits.iterrows():\n",
    "    entry = row['crew']\n",
    "    normalized_df = normalize_entry(entry)\n",
    "    normalized_df['id'] = row['id']  # Añadir la columna 'id'\n",
    "    expanded_dfs.append(normalized_df)\n",
    "\n",
    "# Concatenar todos los DataFrames expandidos en uno solo\n",
    "df_crew = pd.concat(expanded_dfs, ignore_index=True)\n"
   ]
  },
  {
   "cell_type": "code",
   "execution_count": 32,
   "metadata": {},
   "outputs": [
    {
     "data": {
      "text/html": [
       "<div>\n",
       "<style scoped>\n",
       "    .dataframe tbody tr th:only-of-type {\n",
       "        vertical-align: middle;\n",
       "    }\n",
       "\n",
       "    .dataframe tbody tr th {\n",
       "        vertical-align: top;\n",
       "    }\n",
       "\n",
       "    .dataframe thead th {\n",
       "        text-align: right;\n",
       "    }\n",
       "</style>\n",
       "<table border=\"1\" class=\"dataframe\">\n",
       "  <thead>\n",
       "    <tr style=\"text-align: right;\">\n",
       "      <th></th>\n",
       "      <th>credit_id</th>\n",
       "      <th>department</th>\n",
       "      <th>gender</th>\n",
       "      <th>id</th>\n",
       "      <th>job</th>\n",
       "      <th>name</th>\n",
       "      <th>profile_path</th>\n",
       "    </tr>\n",
       "  </thead>\n",
       "  <tbody>\n",
       "    <tr>\n",
       "      <th>0</th>\n",
       "      <td>52fe4284c3a36847f8024f49</td>\n",
       "      <td>Directing</td>\n",
       "      <td>2.0</td>\n",
       "      <td>862</td>\n",
       "      <td>Director</td>\n",
       "      <td>John Lasseter</td>\n",
       "      <td>/7EdqiNbr4FRjIhKHyPPdFfEEEFG.jpg</td>\n",
       "    </tr>\n",
       "    <tr>\n",
       "      <th>1</th>\n",
       "      <td>52fe4284c3a36847f8024f4f</td>\n",
       "      <td>Writing</td>\n",
       "      <td>2.0</td>\n",
       "      <td>862</td>\n",
       "      <td>Screenplay</td>\n",
       "      <td>Joss Whedon</td>\n",
       "      <td>/dTiVsuaTVTeGmvkhcyJvKp2A5kr.jpg</td>\n",
       "    </tr>\n",
       "    <tr>\n",
       "      <th>2</th>\n",
       "      <td>52fe4284c3a36847f8024f55</td>\n",
       "      <td>Writing</td>\n",
       "      <td>2.0</td>\n",
       "      <td>862</td>\n",
       "      <td>Screenplay</td>\n",
       "      <td>Andrew Stanton</td>\n",
       "      <td>/pvQWsu0qc8JFQhMVJkTHuexUAa1.jpg</td>\n",
       "    </tr>\n",
       "    <tr>\n",
       "      <th>3</th>\n",
       "      <td>52fe4284c3a36847f8024f5b</td>\n",
       "      <td>Writing</td>\n",
       "      <td>2.0</td>\n",
       "      <td>862</td>\n",
       "      <td>Screenplay</td>\n",
       "      <td>Joel Cohen</td>\n",
       "      <td>/dAubAiZcvKFbboWlj7oXOkZnTSu.jpg</td>\n",
       "    </tr>\n",
       "    <tr>\n",
       "      <th>4</th>\n",
       "      <td>52fe4284c3a36847f8024f61</td>\n",
       "      <td>Writing</td>\n",
       "      <td>0.0</td>\n",
       "      <td>862</td>\n",
       "      <td>Screenplay</td>\n",
       "      <td>Alec Sokolow</td>\n",
       "      <td>/v79vlRYi94BZUQnkkyznbGUZLjT.jpg</td>\n",
       "    </tr>\n",
       "  </tbody>\n",
       "</table>\n",
       "</div>"
      ],
      "text/plain": [
       "                  credit_id department  gender   id         job  \\\n",
       "0  52fe4284c3a36847f8024f49  Directing     2.0  862    Director   \n",
       "1  52fe4284c3a36847f8024f4f    Writing     2.0  862  Screenplay   \n",
       "2  52fe4284c3a36847f8024f55    Writing     2.0  862  Screenplay   \n",
       "3  52fe4284c3a36847f8024f5b    Writing     2.0  862  Screenplay   \n",
       "4  52fe4284c3a36847f8024f61    Writing     0.0  862  Screenplay   \n",
       "\n",
       "             name                      profile_path  \n",
       "0   John Lasseter  /7EdqiNbr4FRjIhKHyPPdFfEEEFG.jpg  \n",
       "1     Joss Whedon  /dTiVsuaTVTeGmvkhcyJvKp2A5kr.jpg  \n",
       "2  Andrew Stanton  /pvQWsu0qc8JFQhMVJkTHuexUAa1.jpg  \n",
       "3      Joel Cohen  /dAubAiZcvKFbboWlj7oXOkZnTSu.jpg  \n",
       "4    Alec Sokolow  /v79vlRYi94BZUQnkkyznbGUZLjT.jpg  "
      ]
     },
     "execution_count": 32,
     "metadata": {},
     "output_type": "execute_result"
    }
   ],
   "source": [
    "df_crew.head() #Para ver como quedó estructurado el dataset creado. "
   ]
  },
  {
   "cell_type": "code",
   "execution_count": 33,
   "metadata": {},
   "outputs": [
    {
     "data": {
      "text/plain": [
       "(463927, 7)"
      ]
     },
     "execution_count": 33,
     "metadata": {},
     "output_type": "execute_result"
    }
   ],
   "source": [
    "df_crew.shape #Para confirmar el tamaño (filas y columnas)"
   ]
  },
  {
   "cell_type": "code",
   "execution_count": 34,
   "metadata": {},
   "outputs": [
    {
     "name": "stdout",
     "output_type": "stream",
     "text": [
      "El tamaño del dataset es de 150.73 MB.\n"
     ]
    }
   ],
   "source": [
    "# Para revisar el tamaño en megas. \n",
    "\n",
    "tamaño_en_bytes = df_crew.memory_usage(deep=True).sum()\n",
    "\n",
    "# Convertir a megabytes\n",
    "tamaño_en_megabytes = tamaño_en_bytes / (1024 ** 2)\n",
    "\n",
    "print(f\"El tamaño del dataset es de {tamaño_en_megabytes:.2f} MB.\")"
   ]
  },
  {
   "cell_type": "code",
   "execution_count": 35,
   "metadata": {},
   "outputs": [],
   "source": [
    "df_crew = df_crew[df_crew['job'] == 'Director']"
   ]
  },
  {
   "cell_type": "code",
   "execution_count": 36,
   "metadata": {},
   "outputs": [
    {
     "data": {
      "text/plain": [
       "Index(['credit_id', 'department', 'gender', 'id', 'job', 'name',\n",
       "       'profile_path'],\n",
       "      dtype='object')"
      ]
     },
     "execution_count": 36,
     "metadata": {},
     "output_type": "execute_result"
    }
   ],
   "source": [
    "df_crew.columns"
   ]
  },
  {
   "cell_type": "code",
   "execution_count": 37,
   "metadata": {},
   "outputs": [],
   "source": [
    "df_crew = df_crew.drop(columns=['credit_id', 'profile_path', 'department', 'gender'])\n",
    "#df_crew.rename(columns={'id': 'Id', 'job': 'Rol', 'name': 'Name'}, inplace=True)"
   ]
  },
  {
   "cell_type": "code",
   "execution_count": 38,
   "metadata": {},
   "outputs": [
    {
     "data": {
      "text/html": [
       "<div>\n",
       "<style scoped>\n",
       "    .dataframe tbody tr th:only-of-type {\n",
       "        vertical-align: middle;\n",
       "    }\n",
       "\n",
       "    .dataframe tbody tr th {\n",
       "        vertical-align: top;\n",
       "    }\n",
       "\n",
       "    .dataframe thead th {\n",
       "        text-align: right;\n",
       "    }\n",
       "</style>\n",
       "<table border=\"1\" class=\"dataframe\">\n",
       "  <thead>\n",
       "    <tr style=\"text-align: right;\">\n",
       "      <th></th>\n",
       "      <th>id</th>\n",
       "      <th>job</th>\n",
       "      <th>name</th>\n",
       "    </tr>\n",
       "  </thead>\n",
       "  <tbody>\n",
       "    <tr>\n",
       "      <th>0</th>\n",
       "      <td>862</td>\n",
       "      <td>Director</td>\n",
       "      <td>John Lasseter</td>\n",
       "    </tr>\n",
       "    <tr>\n",
       "      <th>109</th>\n",
       "      <td>8844</td>\n",
       "      <td>Director</td>\n",
       "      <td>Joe Johnston</td>\n",
       "    </tr>\n",
       "    <tr>\n",
       "      <th>122</th>\n",
       "      <td>15602</td>\n",
       "      <td>Director</td>\n",
       "      <td>Howard Deutch</td>\n",
       "    </tr>\n",
       "    <tr>\n",
       "      <th>126</th>\n",
       "      <td>31357</td>\n",
       "      <td>Director</td>\n",
       "      <td>Forest Whitaker</td>\n",
       "    </tr>\n",
       "    <tr>\n",
       "      <th>141</th>\n",
       "      <td>11862</td>\n",
       "      <td>Director</td>\n",
       "      <td>Charles Shyer</td>\n",
       "    </tr>\n",
       "  </tbody>\n",
       "</table>\n",
       "</div>"
      ],
      "text/plain": [
       "        id       job             name\n",
       "0      862  Director    John Lasseter\n",
       "109   8844  Director     Joe Johnston\n",
       "122  15602  Director    Howard Deutch\n",
       "126  31357  Director  Forest Whitaker\n",
       "141  11862  Director    Charles Shyer"
      ]
     },
     "execution_count": 38,
     "metadata": {},
     "output_type": "execute_result"
    }
   ],
   "source": [
    "df_crew.head()"
   ]
  },
  {
   "cell_type": "code",
   "execution_count": 39,
   "metadata": {},
   "outputs": [
    {
     "data": {
      "text/plain": [
       "(49008, 3)"
      ]
     },
     "execution_count": 39,
     "metadata": {},
     "output_type": "execute_result"
    }
   ],
   "source": [
    "df_crew.shape"
   ]
  },
  {
   "cell_type": "markdown",
   "metadata": {},
   "source": [
    "Ya tengo ambos dataset depurados, ahora voy a combinarlos para llegar a uno solo"
   ]
  },
  {
   "cell_type": "code",
   "execution_count": 40,
   "metadata": {},
   "outputs": [],
   "source": [
    "df_combined = pd.concat([df_cast, df_crew], axis=0, ignore_index=True)"
   ]
  },
  {
   "cell_type": "code",
   "execution_count": 41,
   "metadata": {},
   "outputs": [
    {
     "data": {
      "text/html": [
       "<div>\n",
       "<style scoped>\n",
       "    .dataframe tbody tr th:only-of-type {\n",
       "        vertical-align: middle;\n",
       "    }\n",
       "\n",
       "    .dataframe tbody tr th {\n",
       "        vertical-align: top;\n",
       "    }\n",
       "\n",
       "    .dataframe thead th {\n",
       "        text-align: right;\n",
       "    }\n",
       "</style>\n",
       "<table border=\"1\" class=\"dataframe\">\n",
       "  <thead>\n",
       "    <tr style=\"text-align: right;\">\n",
       "      <th></th>\n",
       "      <th>Id</th>\n",
       "      <th>Name Character</th>\n",
       "      <th>Name</th>\n",
       "      <th>Rol</th>\n",
       "      <th>id</th>\n",
       "      <th>job</th>\n",
       "      <th>name</th>\n",
       "    </tr>\n",
       "  </thead>\n",
       "  <tbody>\n",
       "    <tr>\n",
       "      <th>0</th>\n",
       "      <td>862.0</td>\n",
       "      <td>Woody (voice)</td>\n",
       "      <td>Tom Hanks</td>\n",
       "      <td>Character 1</td>\n",
       "      <td>NaN</td>\n",
       "      <td>NaN</td>\n",
       "      <td>NaN</td>\n",
       "    </tr>\n",
       "    <tr>\n",
       "      <th>1</th>\n",
       "      <td>862.0</td>\n",
       "      <td>Buzz Lightyear (voice)</td>\n",
       "      <td>Tim Allen</td>\n",
       "      <td>Character 2</td>\n",
       "      <td>NaN</td>\n",
       "      <td>NaN</td>\n",
       "      <td>NaN</td>\n",
       "    </tr>\n",
       "    <tr>\n",
       "      <th>2</th>\n",
       "      <td>862.0</td>\n",
       "      <td>Mr. Potato Head (voice)</td>\n",
       "      <td>Don Rickles</td>\n",
       "      <td>Character 3</td>\n",
       "      <td>NaN</td>\n",
       "      <td>NaN</td>\n",
       "      <td>NaN</td>\n",
       "    </tr>\n",
       "    <tr>\n",
       "      <th>3</th>\n",
       "      <td>862.0</td>\n",
       "      <td>Slinky Dog (voice)</td>\n",
       "      <td>Jim Varney</td>\n",
       "      <td>Character 4</td>\n",
       "      <td>NaN</td>\n",
       "      <td>NaN</td>\n",
       "      <td>NaN</td>\n",
       "    </tr>\n",
       "    <tr>\n",
       "      <th>4</th>\n",
       "      <td>862.0</td>\n",
       "      <td>Rex (voice)</td>\n",
       "      <td>Wallace Shawn</td>\n",
       "      <td>Character 5</td>\n",
       "      <td>NaN</td>\n",
       "      <td>NaN</td>\n",
       "      <td>NaN</td>\n",
       "    </tr>\n",
       "  </tbody>\n",
       "</table>\n",
       "</div>"
      ],
      "text/plain": [
       "      Id           Name Character           Name          Rol  id  job name\n",
       "0  862.0            Woody (voice)      Tom Hanks  Character 1 NaN  NaN  NaN\n",
       "1  862.0   Buzz Lightyear (voice)      Tim Allen  Character 2 NaN  NaN  NaN\n",
       "2  862.0  Mr. Potato Head (voice)    Don Rickles  Character 3 NaN  NaN  NaN\n",
       "3  862.0       Slinky Dog (voice)     Jim Varney  Character 4 NaN  NaN  NaN\n",
       "4  862.0              Rex (voice)  Wallace Shawn  Character 5 NaN  NaN  NaN"
      ]
     },
     "execution_count": 41,
     "metadata": {},
     "output_type": "execute_result"
    }
   ],
   "source": [
    "df_combined[df_combined['Id'] == 862]"
   ]
  },
  {
   "cell_type": "code",
<<<<<<< HEAD
   "execution_count": 42,
=======
   "execution_count": 40,
>>>>>>> 1b85f449f54232d87a6cc6603ff7a84d03f8648b
   "metadata": {},
   "outputs": [
    {
     "data": {
      "text/plain": [
       "Index(['Id', 'Name Character', 'Name', 'Rol', 'id', 'job', 'name'], dtype='object')"
      ]
     },
<<<<<<< HEAD
     "execution_count": 42,
=======
     "execution_count": 40,
>>>>>>> 1b85f449f54232d87a6cc6603ff7a84d03f8648b
     "metadata": {},
     "output_type": "execute_result"
    }
   ],
   "source": [
    "df_combined.columns"
   ]
  },
  {
   "cell_type": "code",
   "execution_count": 43,
   "metadata": {},
   "outputs": [
    {
     "name": "stdout",
     "output_type": "stream",
     "text": [
      "El tamaño del dataset es de 67.36 MB.\n"
     ]
    }
   ],
   "source": [
    "tamaño_en_bytes = df_combined.memory_usage(deep=True).sum()\n",
    "\n",
    "# Convertir a megabytes\n",
    "tamaño_en_megabytes = tamaño_en_bytes / (1024 ** 2)\n",
    "\n",
    "print(f\"El tamaño del dataset es de {tamaño_en_megabytes:.2f} MB.\")"
   ]
  },
  {
   "cell_type": "code",
   "execution_count": 44,
   "metadata": {},
   "outputs": [
    {
     "data": {
      "text/plain": [
       "Index(['adult', 'belongs_to_collection', 'budget', 'genres', 'homepage', 'id',\n",
       "       'imdb_id', 'original_language', 'original_title', 'overview',\n",
       "       'popularity', 'poster_path', 'production_companies',\n",
       "       'production_countries', 'release_date', 'revenue', 'runtime',\n",
       "       'spoken_languages', 'status', 'tagline', 'title', 'video',\n",
       "       'vote_average', 'vote_count'],\n",
       "      dtype='object')"
      ]
     },
     "execution_count": 44,
     "metadata": {},
     "output_type": "execute_result"
    }
   ],
   "source": [
    "df_movies.columns"
   ]
  },
  {
   "cell_type": "code",
   "execution_count": 45,
   "metadata": {},
   "outputs": [
    {
     "data": {
      "text/plain": [
       "(25, 24)"
      ]
     },
     "execution_count": 45,
     "metadata": {},
     "output_type": "execute_result"
    }
   ],
   "source": [
    "df_movies[df_movies.duplicated(keep=False)].shape"
   ]
  },
  {
   "cell_type": "code",
   "execution_count": 46,
   "metadata": {},
   "outputs": [],
   "source": [
    "df_movies = df_movies.drop_duplicates()"
   ]
  },
  {
   "cell_type": "code",
   "execution_count": 47,
   "metadata": {},
   "outputs": [
    {
     "data": {
      "text/plain": [
       "(45453, 24)"
      ]
     },
     "execution_count": 47,
     "metadata": {},
     "output_type": "execute_result"
    }
   ],
   "source": [
    "df_movies.shape"
   ]
  },
  {
   "cell_type": "code",
   "execution_count": 48,
   "metadata": {},
   "outputs": [
    {
     "data": {
      "text/html": [
       "<div>\n",
       "<style scoped>\n",
       "    .dataframe tbody tr th:only-of-type {\n",
       "        vertical-align: middle;\n",
       "    }\n",
       "\n",
       "    .dataframe tbody tr th {\n",
       "        vertical-align: top;\n",
       "    }\n",
       "\n",
       "    .dataframe thead th {\n",
       "        text-align: right;\n",
       "    }\n",
       "</style>\n",
       "<table border=\"1\" class=\"dataframe\">\n",
       "  <thead>\n",
       "    <tr style=\"text-align: right;\">\n",
       "      <th></th>\n",
       "      <th>adult</th>\n",
       "      <th>belongs_to_collection</th>\n",
       "      <th>budget</th>\n",
       "      <th>genres</th>\n",
       "      <th>homepage</th>\n",
       "      <th>id</th>\n",
       "      <th>imdb_id</th>\n",
       "      <th>original_language</th>\n",
       "      <th>original_title</th>\n",
       "      <th>overview</th>\n",
       "      <th>...</th>\n",
       "      <th>release_date</th>\n",
       "      <th>revenue</th>\n",
       "      <th>runtime</th>\n",
       "      <th>spoken_languages</th>\n",
       "      <th>status</th>\n",
       "      <th>tagline</th>\n",
       "      <th>title</th>\n",
       "      <th>video</th>\n",
       "      <th>vote_average</th>\n",
       "      <th>vote_count</th>\n",
       "    </tr>\n",
       "  </thead>\n",
       "  <tbody>\n",
       "    <tr>\n",
       "      <th>0</th>\n",
       "      <td>False</td>\n",
       "      <td>{'id': 10194, 'name': 'Toy Story Collection', ...</td>\n",
       "      <td>30000000</td>\n",
       "      <td>[{'id': 16, 'name': 'Animation'}, {'id': 35, '...</td>\n",
       "      <td>http://toystory.disney.com/toy-story</td>\n",
       "      <td>862</td>\n",
       "      <td>tt0114709</td>\n",
       "      <td>en</td>\n",
       "      <td>Toy Story</td>\n",
       "      <td>Led by Woody, Andy's toys live happily in his ...</td>\n",
       "      <td>...</td>\n",
       "      <td>1995-10-30</td>\n",
       "      <td>373554033.0</td>\n",
       "      <td>81.0</td>\n",
       "      <td>[{'iso_639_1': 'en', 'name': 'English'}]</td>\n",
       "      <td>Released</td>\n",
       "      <td>NaN</td>\n",
       "      <td>Toy Story</td>\n",
       "      <td>False</td>\n",
       "      <td>7.7</td>\n",
       "      <td>5415.0</td>\n",
       "    </tr>\n",
       "  </tbody>\n",
       "</table>\n",
       "<p>1 rows × 24 columns</p>\n",
       "</div>"
      ],
      "text/plain": [
       "   adult                              belongs_to_collection    budget  \\\n",
       "0  False  {'id': 10194, 'name': 'Toy Story Collection', ...  30000000   \n",
       "\n",
       "                                              genres  \\\n",
       "0  [{'id': 16, 'name': 'Animation'}, {'id': 35, '...   \n",
       "\n",
       "                               homepage   id    imdb_id original_language  \\\n",
       "0  http://toystory.disney.com/toy-story  862  tt0114709                en   \n",
       "\n",
       "  original_title                                           overview  ...  \\\n",
       "0      Toy Story  Led by Woody, Andy's toys live happily in his ...  ...   \n",
       "\n",
       "  release_date      revenue runtime                          spoken_languages  \\\n",
       "0   1995-10-30  373554033.0    81.0  [{'iso_639_1': 'en', 'name': 'English'}]   \n",
       "\n",
       "     status  tagline      title  video vote_average vote_count  \n",
       "0  Released      NaN  Toy Story  False          7.7     5415.0  \n",
       "\n",
       "[1 rows x 24 columns]"
      ]
     },
     "execution_count": 48,
     "metadata": {},
     "output_type": "execute_result"
    }
   ],
   "source": [
    "df_movies.head(1)"
   ]
  },
  {
   "cell_type": "code",
   "execution_count": 49,
   "metadata": {},
   "outputs": [
    {
     "data": {
      "text/plain": [
       "Index(['belongs_to_collection', 'budget', 'genres', 'id', 'original_language',\n",
       "       'original_title', 'overview', 'popularity', 'production_companies',\n",
       "       'production_countries', 'release_date', 'revenue', 'runtime',\n",
       "       'spoken_languages', 'status', 'tagline', 'title', 'vote_average',\n",
       "       'vote_count'],\n",
       "      dtype='object')"
      ]
     },
     "execution_count": 49,
     "metadata": {},
     "output_type": "execute_result"
    }
   ],
   "source": [
    "# Se eliminan las columnas para aligerar el tamaño del dataset: video, imbd_id, poster_path y homepage (solicitadas)\n",
    "\n",
    "df_movies = df_movies.drop(columns = ['adult', 'imdb_id', 'poster_path', 'homepage', 'video', ], errors='ignore')\n",
    "\n",
    "df_movies.columns # Para mostrar las columnas con las que se va a trabajar"
   ]
  },
  {
   "cell_type": "code",
   "execution_count": 50,
   "metadata": {},
   "outputs": [
    {
     "data": {
      "text/plain": [
       "Index(['belongs_to_collection', 'budget', 'genres', 'id', 'original_title',\n",
       "       'popularity', 'production_companies', 'release_date', 'revenue',\n",
       "       'title', 'vote_average', 'vote_count'],\n",
       "      dtype='object')"
      ]
     },
     "execution_count": 50,
     "metadata": {},
     "output_type": "execute_result"
    }
   ],
   "source": [
    "# Se eliminan las columnas para aligerar el tamaño del dataset (no utilizadas)\n",
    "\n",
    "df_movies = df_movies.drop(columns = ['homepage', 'original_language', 'overview','runtime', 'spoken_languages', 'status', 'tagline', 'production_countries'], errors='ignore')\n",
    "\n",
    "df_movies.columns # Para mostrar las columnas con las que se va a trabajar"
   ]
  },
  {
   "cell_type": "code",
   "execution_count": 51,
   "metadata": {},
   "outputs": [
    {
     "data": {
      "text/plain": [
       "(45453, 12)"
      ]
     },
     "execution_count": 51,
     "metadata": {},
     "output_type": "execute_result"
    }
   ],
   "source": [
    "df_movies.shape"
   ]
  },
  {
   "cell_type": "markdown",
   "metadata": {},
   "source": [
    "Se empieza desde aqui a hacer la depuración de las columnas que se encuentran anidadas:\n",
    "1. belongs_to_collection\n",
    "2. genres\n",
    "3. production_companies\n",
    "4. production_countries"
   ]
  },
  {
   "cell_type": "markdown",
   "metadata": {},
   "source": [
    "DEPURACIÓN COLUMNA 'belongs_to_collection'"
   ]
  },
  {
   "cell_type": "code",
   "execution_count": 52,
   "metadata": {},
   "outputs": [
    {
     "data": {
      "text/plain": [
       "np.int64(40959)"
      ]
     },
     "execution_count": 52,
     "metadata": {},
     "output_type": "execute_result"
    }
   ],
   "source": [
    "# Se verifica si la columna tiene valores nulos\n",
    "\n",
    "df_movies['belongs_to_collection'].isnull().sum()"
   ]
  },
  {
   "cell_type": "code",
   "execution_count": 53,
   "metadata": {},
   "outputs": [
    {
     "data": {
      "text/plain": [
       "0    {'id': 10194, 'name': 'Toy Story Collection', ...\n",
       "1                                                   []\n",
       "2    {'id': 119050, 'name': 'Grumpy Old Men Collect...\n",
       "3                                                   []\n",
       "4    {'id': 96871, 'name': 'Father of the Bride Col...\n",
       "5                                                   []\n",
       "6                                                   []\n",
       "7                                                   []\n",
       "8                                                   []\n",
       "9    {'id': 645, 'name': 'James Bond Collection', '...\n",
       "Name: belongs_to_collection, dtype: object"
      ]
     },
     "execution_count": 53,
     "metadata": {},
     "output_type": "execute_result"
    }
   ],
   "source": [
    "# La columna tiene datos nulos, se reemplazan con listas vacías\n",
    "\n",
    "df_movies['belongs_to_collection'] = df_movies['belongs_to_collection'].fillna('[]')\n",
    "df_movies['belongs_to_collection'].head(10)"
   ]
  },
  {
   "cell_type": "code",
   "execution_count": 54,
   "metadata": {},
   "outputs": [
    {
     "data": {
      "text/plain": [
       "str"
      ]
     },
     "execution_count": 54,
     "metadata": {},
     "output_type": "execute_result"
    }
   ],
   "source": [
    "type(df_movies['belongs_to_collection'][0])"
   ]
  },
  {
   "cell_type": "code",
   "execution_count": 55,
   "metadata": {},
   "outputs": [
    {
     "data": {
      "text/plain": [
       "dict"
      ]
     },
     "execution_count": 55,
     "metadata": {},
     "output_type": "execute_result"
    }
   ],
   "source": [
    "#Se convierte el tipo de datos de String a Diccionario\n",
    "\n",
    "def convertir_a_diccionario(cadena):\n",
    "    try:\n",
    "        return ast.literal_eval(cadena)\n",
    "    except (ValueError, SyntaxError):\n",
    "        return None  # O cualquier valor predeterminado para manejar errores\n",
    "\n",
    "# Aplicar la conversión a la columna\n",
    "df_movies['belongs_to_collection'] = df_movies['belongs_to_collection'].apply(convertir_a_diccionario)\n",
    "\n",
    "type(df_movies['belongs_to_collection'][0])"
   ]
  },
  {
   "cell_type": "code",
   "execution_count": 56,
   "metadata": {},
   "outputs": [
    {
     "data": {
      "text/plain": [
       "array([<class 'dict'>, <class 'list'>, <class 'float'>], dtype=object)"
      ]
     },
     "execution_count": 56,
     "metadata": {},
     "output_type": "execute_result"
    }
   ],
   "source": [
    "# Se muestran los tipos de datos únicos en la columna\n",
    "\n",
    "df_movies['belongs_to_collection'].apply(type).unique()"
   ]
  },
  {
   "cell_type": "code",
   "execution_count": 57,
   "metadata": {},
   "outputs": [],
   "source": [
    "# Crear la función normalize_entry para procesar y normalizar diferentes tipos de datos en una entrada dentro de un DataFrame (diccionarios y listas de diccionarios)\n",
    "def normalize_entry(entry):\n",
    "    if isinstance(entry, dict):\n",
    "        return pd.json_normalize(entry)\n",
    "    elif isinstance(entry, list) and all(isinstance(i, dict) for i in entry):\n",
    "        return pd.json_normalize(entry)\n",
    "    else:\n",
    "        return pd.DataFrame()  # Retorna un DataFrame vacío para valores que no son diccionarios ni listas de diccionarios\n",
    "\n",
    "# Se crea una lista para almacenar los DataFrames expandidos\n",
    "expanded_dfs = []\n",
    "\n",
    "# Iterar sobre cada fila del DataFrame original\n",
    "for idx, row in df_movies.iterrows():\n",
    "    entry = row['belongs_to_collection']\n",
    "    normalized_df = normalize_entry(entry)\n",
    "    normalized_df['id'] = row['id']  # Añadir la columna 'id'\n",
    "    expanded_dfs.append(normalized_df)\n",
    "\n",
    "# Concatenar todos los DataFrames expandidos en uno solo\n",
    "df_collection = pd.concat(expanded_dfs, ignore_index=True)"
   ]
  },
  {
   "cell_type": "code",
   "execution_count": 58,
   "metadata": {},
   "outputs": [
    {
     "data": {
      "text/plain": [
       "Index(['id', 'name', 'poster_path', 'backdrop_path'], dtype='object')"
      ]
     },
     "execution_count": 58,
     "metadata": {},
     "output_type": "execute_result"
    }
   ],
   "source": [
    "df_collection.columns"
   ]
  },
  {
   "cell_type": "code",
   "execution_count": 59,
   "metadata": {},
   "outputs": [
    {
     "data": {
      "text/plain": [
       "(4491, 4)"
      ]
     },
     "execution_count": 59,
     "metadata": {},
     "output_type": "execute_result"
    }
   ],
   "source": [
    "df_collection.shape"
   ]
  },
  {
   "cell_type": "code",
   "execution_count": 60,
   "metadata": {},
   "outputs": [
    {
     "data": {
      "text/html": [
       "<div>\n",
       "<style scoped>\n",
       "    .dataframe tbody tr th:only-of-type {\n",
       "        vertical-align: middle;\n",
       "    }\n",
       "\n",
       "    .dataframe tbody tr th {\n",
       "        vertical-align: top;\n",
       "    }\n",
       "\n",
       "    .dataframe thead th {\n",
       "        text-align: right;\n",
       "    }\n",
       "</style>\n",
       "<table border=\"1\" class=\"dataframe\">\n",
       "  <thead>\n",
       "    <tr style=\"text-align: right;\">\n",
       "      <th></th>\n",
       "      <th>id</th>\n",
       "      <th>Collection</th>\n",
       "      <th>poster_path</th>\n",
       "      <th>backdrop_path</th>\n",
       "    </tr>\n",
       "  </thead>\n",
       "  <tbody>\n",
       "  </tbody>\n",
       "</table>\n",
       "</div>"
      ],
      "text/plain": [
       "Empty DataFrame\n",
       "Columns: [id, Collection, poster_path, backdrop_path]\n",
       "Index: []"
      ]
     },
     "execution_count": 60,
     "metadata": {},
     "output_type": "execute_result"
    }
   ],
   "source": [
    "df_collection = df_collection.rename(columns={'name': 'Collection'}) #Cambio el nombre para dejarlo en el data frame final\n",
    "df_collection = df_collection.drop_duplicates() #elimino los duplicados del df resultante\n",
    "df_collection[df_collection['id'].duplicated(keep=False)] #Confirmo si quedan duplicados"
   ]
  },
  {
   "cell_type": "code",
   "execution_count": 61,
   "metadata": {},
   "outputs": [],
   "source": [
    "df_movies = df_movies.drop(columns=['belongs_to_collection']) #Elimino la columna que ya dupliqueé\n",
    "df_movies = pd.merge(df_movies, df_collection[['id', 'Collection']], on='id', how='left') #Hago la combinación de datos"
   ]
  },
  {
   "cell_type": "code",
   "execution_count": 62,
   "metadata": {},
   "outputs": [
    {
     "data": {
      "text/plain": [
       "(45453, 12)"
      ]
     },
     "execution_count": 62,
     "metadata": {},
     "output_type": "execute_result"
    }
   ],
   "source": [
    "df_movies.shape"
   ]
  },
  {
   "cell_type": "code",
   "execution_count": 63,
   "metadata": {},
   "outputs": [
    {
     "data": {
      "text/plain": [
       "Index(['budget', 'genres', 'id', 'original_title', 'popularity',\n",
       "       'production_companies', 'release_date', 'revenue', 'title',\n",
       "       'vote_average', 'vote_count', 'Collection'],\n",
       "      dtype='object')"
      ]
     },
     "execution_count": 63,
     "metadata": {},
     "output_type": "execute_result"
    }
   ],
   "source": [
    "df_movies.columns"
   ]
  },
  {
   "cell_type": "code",
   "execution_count": 64,
   "metadata": {},
   "outputs": [
    {
     "data": {
      "text/html": [
       "<div>\n",
       "<style scoped>\n",
       "    .dataframe tbody tr th:only-of-type {\n",
       "        vertical-align: middle;\n",
       "    }\n",
       "\n",
       "    .dataframe tbody tr th {\n",
       "        vertical-align: top;\n",
       "    }\n",
       "\n",
       "    .dataframe thead th {\n",
       "        text-align: right;\n",
       "    }\n",
       "</style>\n",
       "<table border=\"1\" class=\"dataframe\">\n",
       "  <thead>\n",
       "    <tr style=\"text-align: right;\">\n",
       "      <th></th>\n",
       "      <th>budget</th>\n",
       "      <th>genres</th>\n",
       "      <th>id</th>\n",
       "      <th>original_title</th>\n",
       "      <th>popularity</th>\n",
       "      <th>production_companies</th>\n",
       "      <th>release_date</th>\n",
       "      <th>revenue</th>\n",
       "      <th>title</th>\n",
       "      <th>vote_average</th>\n",
       "      <th>vote_count</th>\n",
       "      <th>Collection</th>\n",
       "    </tr>\n",
       "  </thead>\n",
       "  <tbody>\n",
       "    <tr>\n",
       "      <th>0</th>\n",
       "      <td>30000000</td>\n",
       "      <td>[{'id': 16, 'name': 'Animation'}, {'id': 35, '...</td>\n",
       "      <td>862</td>\n",
       "      <td>Toy Story</td>\n",
       "      <td>21.946943</td>\n",
       "      <td>[{'name': 'Pixar Animation Studios', 'id': 3}]</td>\n",
       "      <td>1995-10-30</td>\n",
       "      <td>373554033.0</td>\n",
       "      <td>Toy Story</td>\n",
       "      <td>7.7</td>\n",
       "      <td>5415.0</td>\n",
       "      <td>Toy Story Collection</td>\n",
       "    </tr>\n",
       "  </tbody>\n",
       "</table>\n",
       "</div>"
      ],
      "text/plain": [
       "     budget                                             genres   id  \\\n",
       "0  30000000  [{'id': 16, 'name': 'Animation'}, {'id': 35, '...  862   \n",
       "\n",
       "  original_title popularity                            production_companies  \\\n",
       "0      Toy Story  21.946943  [{'name': 'Pixar Animation Studios', 'id': 3}]   \n",
       "\n",
       "  release_date      revenue      title  vote_average  vote_count  \\\n",
       "0   1995-10-30  373554033.0  Toy Story           7.7      5415.0   \n",
       "\n",
       "             Collection  \n",
       "0  Toy Story Collection  "
      ]
     },
     "execution_count": 64,
     "metadata": {},
     "output_type": "execute_result"
    }
   ],
   "source": [
    "df_movies.head(1)"
   ]
  },
  {
   "cell_type": "markdown",
   "metadata": {},
   "source": [
    "DEPURACIÓN COLUMNA 'genres'"
   ]
  },
  {
   "cell_type": "code",
   "execution_count": 65,
   "metadata": {},
   "outputs": [
    {
     "data": {
      "text/plain": [
       "np.int64(0)"
      ]
     },
     "execution_count": 65,
     "metadata": {},
     "output_type": "execute_result"
    }
   ],
   "source": [
    "# Se verifica si la columna tiene valores nulos\n",
    " \n",
    "df_movies['genres'].isnull().sum()"
   ]
  },
  {
   "cell_type": "code",
   "execution_count": 66,
   "metadata": {},
   "outputs": [
    {
     "data": {
      "text/plain": [
       "str"
      ]
     },
     "execution_count": 66,
     "metadata": {},
     "output_type": "execute_result"
    }
   ],
   "source": [
    "type(df_movies['genres'][0])"
   ]
  },
  {
   "cell_type": "code",
   "execution_count": 67,
   "metadata": {},
   "outputs": [
    {
     "data": {
      "text/plain": [
       "list"
      ]
     },
     "execution_count": 67,
     "metadata": {},
     "output_type": "execute_result"
    }
   ],
   "source": [
    "#Se convierte el tipo de datos de String a Diccionario\n",
    "\n",
    "def convertir_a_diccionario(cadena):\n",
    "    try:\n",
    "        return ast.literal_eval(cadena)\n",
    "    except (ValueError, SyntaxError):\n",
    "        return None  # O cualquier valor predeterminado para manejar errores\n",
    "\n",
    "# Aplicar la conversión a la columna\n",
    "df_movies['genres'] = df_movies['genres'].apply(convertir_a_diccionario)\n",
    "\n",
    "type(df_movies['genres'][0])"
   ]
  },
  {
   "cell_type": "code",
<<<<<<< HEAD
   "execution_count": 68,
=======
   "execution_count": 66,
>>>>>>> 1b85f449f54232d87a6cc6603ff7a84d03f8648b
   "metadata": {},
   "outputs": [
    {
     "data": {
      "text/plain": [
       "array([<class 'list'>], dtype=object)"
      ]
     },
<<<<<<< HEAD
     "execution_count": 68,
=======
     "execution_count": 66,
>>>>>>> 1b85f449f54232d87a6cc6603ff7a84d03f8648b
     "metadata": {},
     "output_type": "execute_result"
    }
   ],
   "source": [
    "# Se muestran los tipos de datos únicos en la columna\n",
    "df_movies['genres'].apply(type).unique()"
   ]
  },
  {
   "cell_type": "code",
<<<<<<< HEAD
   "execution_count": 69,
=======
   "execution_count": 67,
>>>>>>> 1b85f449f54232d87a6cc6603ff7a84d03f8648b
   "metadata": {},
   "outputs": [],
   "source": [
    "# Crear la función normalize_entry para procesar y normalizar diferentes tipos de datos en una entrada dentro de un DataFrame (diccionarios y listas de diccionarios)\n",
    "def normalize_entry(entry):\n",
    "    if isinstance(entry, dict):\n",
    "        return pd.json_normalize(entry)\n",
    "    elif isinstance(entry, list) and all(isinstance(i, dict) for i in entry):\n",
    "        return pd.json_normalize(entry)\n",
    "    else:\n",
    "        return pd.DataFrame()  # Retorna un DataFrame vacío para valores que no son diccionarios ni listas de diccionarios\n",
    "\n",
    "# Se crea una lista para almacenar los DataFrames expandidos\n",
    "expanded_dfs = []\n",
    "\n",
    "# Iterar sobre cada fila del DataFrame original\n",
    "for idx, row in df_movies.iterrows():\n",
    "    entry = row['genres']\n",
    "    normalized_df = normalize_entry(entry)\n",
    "    normalized_df['id'] = row['id']  # Añadir la columna 'id'\n",
    "    normalized_df['order'] = range(1, len(normalized_df) + 1)  # Añadir la columna 'order'\n",
    "    expanded_dfs.append(normalized_df)\n",
    "\n",
    "# Concatenar todos los DataFrames expandidos en uno solo\n",
    "df_genres = pd.concat(expanded_dfs, ignore_index=True)"
   ]
  },
  {
   "cell_type": "code",
<<<<<<< HEAD
   "execution_count": 70,
=======
   "execution_count": 68,
>>>>>>> 1b85f449f54232d87a6cc6603ff7a84d03f8648b
   "metadata": {},
   "outputs": [
    {
     "data": {
      "text/plain": [
       "(91074, 3)"
      ]
     },
<<<<<<< HEAD
     "execution_count": 70,
=======
     "execution_count": 68,
>>>>>>> 1b85f449f54232d87a6cc6603ff7a84d03f8648b
     "metadata": {},
     "output_type": "execute_result"
    }
   ],
   "source": [
    "df_genres.shape"
   ]
  },
  {
   "cell_type": "code",
<<<<<<< HEAD
   "execution_count": 71,
=======
   "execution_count": 69,
>>>>>>> 1b85f449f54232d87a6cc6603ff7a84d03f8648b
   "metadata": {},
   "outputs": [
    {
     "data": {
      "text/html": [
       "<div>\n",
       "<style scoped>\n",
       "    .dataframe tbody tr th:only-of-type {\n",
       "        vertical-align: middle;\n",
       "    }\n",
       "\n",
       "    .dataframe tbody tr th {\n",
       "        vertical-align: top;\n",
       "    }\n",
       "\n",
       "    .dataframe thead th {\n",
       "        text-align: right;\n",
       "    }\n",
       "</style>\n",
       "<table border=\"1\" class=\"dataframe\">\n",
       "  <thead>\n",
       "    <tr style=\"text-align: right;\">\n",
       "      <th></th>\n",
       "      <th>id</th>\n",
       "      <th>name</th>\n",
       "      <th>order</th>\n",
       "    </tr>\n",
       "  </thead>\n",
       "  <tbody>\n",
       "    <tr>\n",
       "      <th>0</th>\n",
       "      <td>862</td>\n",
       "      <td>Animation</td>\n",
       "      <td>1</td>\n",
       "    </tr>\n",
       "    <tr>\n",
       "      <th>1</th>\n",
       "      <td>862</td>\n",
       "      <td>Comedy</td>\n",
       "      <td>2</td>\n",
       "    </tr>\n",
       "    <tr>\n",
       "      <th>2</th>\n",
       "      <td>862</td>\n",
       "      <td>Family</td>\n",
       "      <td>3</td>\n",
       "    </tr>\n",
       "    <tr>\n",
       "      <th>3</th>\n",
       "      <td>8844</td>\n",
       "      <td>Adventure</td>\n",
       "      <td>1</td>\n",
       "    </tr>\n",
       "    <tr>\n",
       "      <th>4</th>\n",
       "      <td>8844</td>\n",
       "      <td>Fantasy</td>\n",
       "      <td>2</td>\n",
       "    </tr>\n",
       "  </tbody>\n",
       "</table>\n",
       "</div>"
      ],
      "text/plain": [
       "     id       name  order\n",
       "0   862  Animation      1\n",
       "1   862     Comedy      2\n",
       "2   862     Family      3\n",
       "3  8844  Adventure      1\n",
       "4  8844    Fantasy      2"
      ]
     },
<<<<<<< HEAD
     "execution_count": 71,
=======
     "execution_count": 69,
>>>>>>> 1b85f449f54232d87a6cc6603ff7a84d03f8648b
     "metadata": {},
     "output_type": "execute_result"
    }
   ],
   "source": [
    "df_genres.head()"
   ]
  },
  {
   "cell_type": "code",
<<<<<<< HEAD
   "execution_count": 72,
=======
   "execution_count": 70,
>>>>>>> 1b85f449f54232d87a6cc6603ff7a84d03f8648b
   "metadata": {},
   "outputs": [
    {
     "data": {
      "text/html": [
       "<div>\n",
       "<style scoped>\n",
       "    .dataframe tbody tr th:only-of-type {\n",
       "        vertical-align: middle;\n",
       "    }\n",
       "\n",
       "    .dataframe tbody tr th {\n",
       "        vertical-align: top;\n",
       "    }\n",
       "\n",
       "    .dataframe thead th {\n",
       "        text-align: right;\n",
       "    }\n",
       "</style>\n",
       "<table border=\"1\" class=\"dataframe\">\n",
       "  <thead>\n",
       "    <tr style=\"text-align: right;\">\n",
       "      <th></th>\n",
       "      <th>id</th>\n",
       "      <th>name</th>\n",
       "    </tr>\n",
       "  </thead>\n",
       "  <tbody>\n",
       "    <tr>\n",
       "      <th>0</th>\n",
       "      <td>100</td>\n",
       "      <td>[Comedy, Crime]</td>\n",
       "    </tr>\n",
       "    <tr>\n",
       "      <th>1</th>\n",
       "      <td>10000</td>\n",
       "      <td>[Comedy, Drama]</td>\n",
       "    </tr>\n",
       "    <tr>\n",
       "      <th>2</th>\n",
       "      <td>10001</td>\n",
       "      <td>[Comedy, Science Fiction]</td>\n",
       "    </tr>\n",
       "    <tr>\n",
       "      <th>3</th>\n",
       "      <td>100010</td>\n",
       "      <td>[Drama, War]</td>\n",
       "    </tr>\n",
       "    <tr>\n",
       "      <th>4</th>\n",
       "      <td>100017</td>\n",
       "      <td>[Drama]</td>\n",
       "    </tr>\n",
       "  </tbody>\n",
       "</table>\n",
       "</div>"
      ],
      "text/plain": [
       "       id                       name\n",
       "0     100            [Comedy, Crime]\n",
       "1   10000            [Comedy, Drama]\n",
       "2   10001  [Comedy, Science Fiction]\n",
       "3  100010               [Drama, War]\n",
       "4  100017                    [Drama]"
      ]
     },
<<<<<<< HEAD
     "execution_count": 72,
=======
     "execution_count": 70,
>>>>>>> 1b85f449f54232d87a6cc6603ff7a84d03f8648b
     "metadata": {},
     "output_type": "execute_result"
    }
   ],
   "source": [
    "# Crear una función para combinar valores únicos en una lista\n",
    "def combine_unique(series):\n",
    "    return list(series.unique())\n",
    "\n",
    "# Agrupar por 'id' y combinar valores únicos en listas para las columnas 'job' y otras relevantes\n",
    "df_grouped = df_genres.groupby('id').agg({\n",
    "    'name': combine_unique,\n",
    "}).reset_index()\n",
    "\n",
    "df_grouped.head()"
   ]
  },
  {
   "cell_type": "code",
<<<<<<< HEAD
   "execution_count": 73,
=======
   "execution_count": 71,
>>>>>>> 1b85f449f54232d87a6cc6603ff7a84d03f8648b
   "metadata": {},
   "outputs": [
    {
     "data": {
      "text/plain": [
       "Index(['budget', 'genres', 'id', 'original_title', 'popularity',\n",
       "       'production_companies', 'release_date', 'revenue', 'title',\n",
       "       'vote_average', 'vote_count', 'Collection'],\n",
       "      dtype='object')"
      ]
     },
<<<<<<< HEAD
     "execution_count": 73,
=======
     "execution_count": 71,
>>>>>>> 1b85f449f54232d87a6cc6603ff7a84d03f8648b
     "metadata": {},
     "output_type": "execute_result"
    }
   ],
   "source": [
    "df_movies.columns"
   ]
  },
  {
   "cell_type": "code",
<<<<<<< HEAD
   "execution_count": 74,
=======
   "execution_count": 72,
>>>>>>> 1b85f449f54232d87a6cc6603ff7a84d03f8648b
   "metadata": {},
   "outputs": [],
   "source": [
    "df_movies = df_movies.drop(columns=['genres'])\n",
    "df_grouped = df_grouped.rename(columns={'name': 'genres'})\n",
    "df_movies = pd.merge(df_movies, df_grouped[['id', 'genres']], on='id', how='left')"
   ]
  },
  {
   "cell_type": "code",
   "execution_count": 75,
   "metadata": {},
   "outputs": [
    {
     "data": {
      "text/html": [
       "<div>\n",
       "<style scoped>\n",
       "    .dataframe tbody tr th:only-of-type {\n",
       "        vertical-align: middle;\n",
       "    }\n",
       "\n",
       "    .dataframe tbody tr th {\n",
       "        vertical-align: top;\n",
       "    }\n",
       "\n",
       "    .dataframe thead th {\n",
       "        text-align: right;\n",
       "    }\n",
       "</style>\n",
       "<table border=\"1\" class=\"dataframe\">\n",
       "  <thead>\n",
       "    <tr style=\"text-align: right;\">\n",
       "      <th></th>\n",
       "      <th>budget</th>\n",
       "      <th>id</th>\n",
       "      <th>original_title</th>\n",
       "      <th>popularity</th>\n",
       "      <th>production_companies</th>\n",
       "      <th>release_date</th>\n",
       "      <th>revenue</th>\n",
       "      <th>title</th>\n",
       "      <th>vote_average</th>\n",
       "      <th>vote_count</th>\n",
       "      <th>Collection</th>\n",
       "      <th>genres</th>\n",
       "    </tr>\n",
       "  </thead>\n",
       "  <tbody>\n",
       "    <tr>\n",
       "      <th>0</th>\n",
       "      <td>30000000</td>\n",
       "      <td>862</td>\n",
       "      <td>Toy Story</td>\n",
       "      <td>21.946943</td>\n",
       "      <td>[{'name': 'Pixar Animation Studios', 'id': 3}]</td>\n",
       "      <td>1995-10-30</td>\n",
       "      <td>373554033.0</td>\n",
       "      <td>Toy Story</td>\n",
       "      <td>7.7</td>\n",
       "      <td>5415.0</td>\n",
       "      <td>Toy Story Collection</td>\n",
       "      <td>[Animation, Comedy, Family]</td>\n",
       "    </tr>\n",
       "    <tr>\n",
       "      <th>1</th>\n",
       "      <td>65000000</td>\n",
       "      <td>8844</td>\n",
       "      <td>Jumanji</td>\n",
       "      <td>17.015539</td>\n",
       "      <td>[{'name': 'TriStar Pictures', 'id': 559}, {'na...</td>\n",
       "      <td>1995-12-15</td>\n",
       "      <td>262797249.0</td>\n",
       "      <td>Jumanji</td>\n",
       "      <td>6.9</td>\n",
       "      <td>2413.0</td>\n",
       "      <td>NaN</td>\n",
       "      <td>[Adventure, Fantasy, Family]</td>\n",
       "    </tr>\n",
       "    <tr>\n",
       "      <th>2</th>\n",
       "      <td>0</td>\n",
       "      <td>15602</td>\n",
       "      <td>Grumpier Old Men</td>\n",
       "      <td>11.7129</td>\n",
       "      <td>[{'name': 'Warner Bros.', 'id': 6194}, {'name'...</td>\n",
       "      <td>1995-12-22</td>\n",
       "      <td>0.0</td>\n",
       "      <td>Grumpier Old Men</td>\n",
       "      <td>6.5</td>\n",
       "      <td>92.0</td>\n",
       "      <td>Grumpy Old Men Collection</td>\n",
       "      <td>[Romance, Comedy]</td>\n",
       "    </tr>\n",
       "  </tbody>\n",
       "</table>\n",
       "</div>"
      ],
      "text/plain": [
       "     budget     id    original_title popularity  \\\n",
       "0  30000000    862         Toy Story  21.946943   \n",
       "1  65000000   8844           Jumanji  17.015539   \n",
       "2         0  15602  Grumpier Old Men    11.7129   \n",
       "\n",
       "                                production_companies release_date  \\\n",
       "0     [{'name': 'Pixar Animation Studios', 'id': 3}]   1995-10-30   \n",
       "1  [{'name': 'TriStar Pictures', 'id': 559}, {'na...   1995-12-15   \n",
       "2  [{'name': 'Warner Bros.', 'id': 6194}, {'name'...   1995-12-22   \n",
       "\n",
       "       revenue             title  vote_average  vote_count  \\\n",
       "0  373554033.0         Toy Story           7.7      5415.0   \n",
       "1  262797249.0           Jumanji           6.9      2413.0   \n",
       "2          0.0  Grumpier Old Men           6.5        92.0   \n",
       "\n",
       "                  Collection                        genres  \n",
       "0       Toy Story Collection   [Animation, Comedy, Family]  \n",
       "1                        NaN  [Adventure, Fantasy, Family]  \n",
       "2  Grumpy Old Men Collection             [Romance, Comedy]  "
      ]
     },
     "execution_count": 75,
     "metadata": {},
     "output_type": "execute_result"
    }
   ],
   "source": [
    "df_movies.head(3)"
   ]
  },
  {
   "cell_type": "code",
   "execution_count": 76,
   "metadata": {},
   "outputs": [
    {
     "data": {
      "text/plain": [
       "(45453, 12)"
      ]
     },
     "execution_count": 76,
     "metadata": {},
     "output_type": "execute_result"
    }
   ],
   "source": [
    "df_movies.shape"
   ]
  },
  {
   "cell_type": "code",
   "execution_count": 77,
   "metadata": {},
   "outputs": [
    {
     "data": {
      "text/plain": [
       "Index(['budget', 'id', 'original_title', 'popularity', 'production_companies',\n",
       "       'release_date', 'revenue', 'title', 'vote_average', 'vote_count',\n",
       "       'Collection', 'genres'],\n",
       "      dtype='object')"
      ]
     },
     "execution_count": 77,
     "metadata": {},
     "output_type": "execute_result"
    }
   ],
   "source": [
    "df_movies.columns"
   ]
  },
  {
   "cell_type": "markdown",
   "metadata": {},
   "source": [
    "DEPURACIÓN COLUMNA 'production_companies'"
   ]
  },
  {
   "cell_type": "code",
   "execution_count": 78,
   "metadata": {},
   "outputs": [
    {
     "data": {
      "text/plain": [
       "np.int64(3)"
      ]
     },
     "execution_count": 78,
     "metadata": {},
     "output_type": "execute_result"
    }
   ],
   "source": [
    "# Se verifica si la columna tiene valores nulos\n",
    " \n",
    "df_movies['production_companies'].isnull().sum()"
   ]
  },
  {
   "cell_type": "code",
   "execution_count": 79,
   "metadata": {},
   "outputs": [
    {
     "data": {
      "text/plain": [
       "0       [{'name': 'Pixar Animation Studios', 'id': 3}]\n",
       "1    [{'name': 'TriStar Pictures', 'id': 559}, {'na...\n",
       "2    [{'name': 'Warner Bros.', 'id': 6194}, {'name'...\n",
       "3    [{'name': 'Twentieth Century Fox Film Corporat...\n",
       "4    [{'name': 'Sandollar Productions', 'id': 5842}...\n",
       "5    [{'name': 'Regency Enterprises', 'id': 508}, {...\n",
       "6    [{'name': 'Paramount Pictures', 'id': 4}, {'na...\n",
       "7          [{'name': 'Walt Disney Pictures', 'id': 2}]\n",
       "8    [{'name': 'Universal Pictures', 'id': 33}, {'n...\n",
       "9    [{'name': 'United Artists', 'id': 60}, {'name'...\n",
       "Name: production_companies, dtype: object"
      ]
     },
     "execution_count": 79,
     "metadata": {},
     "output_type": "execute_result"
    }
   ],
   "source": [
    "# La columna tiene datos nulos, se reemplazan con listas vacías\n",
    "\n",
    "df_movies['production_companies'] = df_movies['production_companies'].fillna('[]')\n",
    "df_movies['production_companies'].head(10)"
   ]
  },
  {
   "cell_type": "code",
<<<<<<< HEAD
   "execution_count": 80,
=======
   "execution_count": 78,
>>>>>>> 1b85f449f54232d87a6cc6603ff7a84d03f8648b
   "metadata": {},
   "outputs": [
    {
     "data": {
      "text/plain": [
       "str"
      ]
     },
<<<<<<< HEAD
     "execution_count": 80,
=======
     "execution_count": 78,
>>>>>>> 1b85f449f54232d87a6cc6603ff7a84d03f8648b
     "metadata": {},
     "output_type": "execute_result"
    }
   ],
   "source": [
    "type(df_movies['production_companies'][0])"
   ]
  },
  {
   "cell_type": "code",
<<<<<<< HEAD
   "execution_count": 81,
=======
   "execution_count": 79,
>>>>>>> 1b85f449f54232d87a6cc6603ff7a84d03f8648b
   "metadata": {},
   "outputs": [
    {
     "data": {
      "text/plain": [
       "list"
      ]
     },
<<<<<<< HEAD
     "execution_count": 81,
=======
     "execution_count": 79,
>>>>>>> 1b85f449f54232d87a6cc6603ff7a84d03f8648b
     "metadata": {},
     "output_type": "execute_result"
    }
   ],
   "source": [
    "#Se convierte el tipo de datos de String a Diccionario\n",
    "\n",
    "def convertir_a_diccionario(cadena):\n",
    "    try:\n",
    "        return ast.literal_eval(cadena)\n",
    "    except (ValueError, SyntaxError):\n",
    "        return None  # O cualquier valor predeterminado para manejar errores\n",
    "\n",
    "# Aplicar la conversión a la columna\n",
    "df_movies['production_companies'] = df_movies['production_companies'].apply(convertir_a_diccionario)\n",
    "\n",
    "type(df_movies['production_companies'][0])"
   ]
  },
  {
   "cell_type": "code",
<<<<<<< HEAD
   "execution_count": 82,
=======
   "execution_count": 80,
>>>>>>> 1b85f449f54232d87a6cc6603ff7a84d03f8648b
   "metadata": {},
   "outputs": [
    {
     "data": {
      "text/plain": [
       "array([<class 'list'>, <class 'bool'>], dtype=object)"
      ]
     },
<<<<<<< HEAD
     "execution_count": 82,
=======
     "execution_count": 80,
>>>>>>> 1b85f449f54232d87a6cc6603ff7a84d03f8648b
     "metadata": {},
     "output_type": "execute_result"
    }
   ],
   "source": [
    "# Se muestran los tipos de datos únicos en la columna\n",
    "df_movies['production_companies'].apply(type).unique()"
   ]
  },
  {
   "cell_type": "code",
<<<<<<< HEAD
   "execution_count": 83,
=======
   "execution_count": 81,
>>>>>>> 1b85f449f54232d87a6cc6603ff7a84d03f8648b
   "metadata": {},
   "outputs": [],
   "source": [
    "# Crear la función normalize_entry para procesar y normalizar diferentes tipos de datos en una entrada dentro de un DataFrame (diccionarios y listas de diccionarios)\n",
    "def normalize_entry(entry):\n",
    "    if isinstance(entry, dict):\n",
    "        return pd.json_normalize(entry)\n",
    "    elif isinstance(entry, list) and all(isinstance(i, dict) for i in entry):\n",
    "        return pd.json_normalize(entry)\n",
    "    else:\n",
    "        return pd.DataFrame()  # Retorna un DataFrame vacío para valores que no son diccionarios ni listas de diccionarios\n",
    "\n",
    "# Se crea una lista para almacenar los DataFrames expandidos\n",
    "expanded_dfs = []\n",
    "\n",
    "# Iterar sobre cada fila del DataFrame original\n",
    "for idx, row in df_movies.iterrows():\n",
    "    entry = row['production_companies']\n",
    "    normalized_df = normalize_entry(entry)\n",
    "    normalized_df['id'] = row['id']  # Añadir la columna 'id'\n",
    "    normalized_df['order'] = range(1, len(normalized_df) + 1)  # Añadir la columna 'order'\n",
    "    expanded_dfs.append(normalized_df)\n",
    "\n",
    "# Concatenar todos los DataFrames expandidos en uno solo\n",
    "df_prcompany = pd.concat(expanded_dfs, ignore_index=True)"
   ]
  },
  {
   "cell_type": "code",
<<<<<<< HEAD
   "execution_count": 84,
=======
   "execution_count": 82,
>>>>>>> 1b85f449f54232d87a6cc6603ff7a84d03f8648b
   "metadata": {},
   "outputs": [
    {
     "data": {
      "text/plain": [
       "(45453, 12)"
      ]
     },
<<<<<<< HEAD
     "execution_count": 84,
=======
     "execution_count": 82,
>>>>>>> 1b85f449f54232d87a6cc6603ff7a84d03f8648b
     "metadata": {},
     "output_type": "execute_result"
    }
   ],
   "source": [
    "df_movies.shape"
   ]
  },
  {
   "cell_type": "code",
<<<<<<< HEAD
   "execution_count": 85,
=======
   "execution_count": 83,
>>>>>>> 1b85f449f54232d87a6cc6603ff7a84d03f8648b
   "metadata": {},
   "outputs": [
    {
     "data": {
      "text/plain": [
       "order\n",
       "1     33575\n",
       "2     17001\n",
       "3      9039\n",
       "4      4325\n",
       "5      2378\n",
       "6      1428\n",
       "7       867\n",
       "8       553\n",
       "9       373\n",
       "10      240\n",
       "11      173\n",
       "12      131\n",
       "13       97\n",
       "14       78\n",
       "15       62\n",
       "16       53\n",
       "17       32\n",
       "18       25\n",
       "19       22\n",
       "20       17\n",
       "21       12\n",
       "22        8\n",
       "23        5\n",
       "24        5\n",
       "25        4\n",
       "26        3\n",
       "Name: count, dtype: int64"
      ]
     },
<<<<<<< HEAD
     "execution_count": 85,
=======
     "execution_count": 83,
>>>>>>> 1b85f449f54232d87a6cc6603ff7a84d03f8648b
     "metadata": {},
     "output_type": "execute_result"
    }
   ],
   "source": [
    "df_prcompany['order'].value_counts().sort_index()"
   ]
  },
  {
   "cell_type": "code",
<<<<<<< HEAD
   "execution_count": 86,
=======
   "execution_count": 84,
>>>>>>> 1b85f449f54232d87a6cc6603ff7a84d03f8648b
   "metadata": {},
   "outputs": [],
   "source": [
    "df_prcompany.rename(columns={'name': 'Production_Company'}, inplace=True) #Cambio el nombre \"name\" por \"Product_Company\"\n",
    "df_prcompany = df_prcompany[~df_prcompany['order'].between(4, 26)] #Elimino las filas para las peliculas que tengan más de 4 productoras."
   ]
  },
  {
   "cell_type": "code",
<<<<<<< HEAD
   "execution_count": 87,
=======
   "execution_count": 85,
>>>>>>> 1b85f449f54232d87a6cc6603ff7a84d03f8648b
   "metadata": {},
   "outputs": [],
   "source": [
    "df_prcompany = df_prcompany.drop_duplicates(subset=['id', 'order']) # Para eliminar duplicados\n",
    "df_prcompany = df_prcompany.pivot(index='id', columns='order', values='Production_Company') # Crea una tabla pivote  para separar las filas en col\n",
    "df_prcompany.columns = ['ProdCompany_1', 'ProdCompany_2', 'ProdCompany_3'] #Para dejar claros los nuevos nombres\n",
    "df_prcompany.reset_index(inplace=True) #Se resetea el indice. "
   ]
  },
  {
   "cell_type": "code",
<<<<<<< HEAD
   "execution_count": 88,
=======
   "execution_count": 86,
>>>>>>> 1b85f449f54232d87a6cc6603ff7a84d03f8648b
   "metadata": {},
   "outputs": [
    {
     "data": {
      "text/html": [
       "<div>\n",
       "<style scoped>\n",
       "    .dataframe tbody tr th:only-of-type {\n",
       "        vertical-align: middle;\n",
       "    }\n",
       "\n",
       "    .dataframe tbody tr th {\n",
       "        vertical-align: top;\n",
       "    }\n",
       "\n",
       "    .dataframe thead th {\n",
       "        text-align: right;\n",
       "    }\n",
       "</style>\n",
       "<table border=\"1\" class=\"dataframe\">\n",
       "  <thead>\n",
       "    <tr style=\"text-align: right;\">\n",
       "      <th></th>\n",
       "      <th>id</th>\n",
       "      <th>ProdCompany_1</th>\n",
       "      <th>ProdCompany_2</th>\n",
       "      <th>ProdCompany_3</th>\n",
       "    </tr>\n",
       "  </thead>\n",
       "  <tbody>\n",
       "    <tr>\n",
       "      <th>0</th>\n",
       "      <td>100</td>\n",
       "      <td>Handmade Films Ltd.</td>\n",
       "      <td>Summit Entertainment</td>\n",
       "      <td>PolyGram Filmed Entertainment</td>\n",
       "    </tr>\n",
       "    <tr>\n",
       "      <th>1</th>\n",
       "      <td>10000</td>\n",
       "      <td>Ministère de la Culture et de la Francophonie</td>\n",
       "      <td>Ministère des Affaires Étrangères</td>\n",
       "      <td>NaN</td>\n",
       "    </tr>\n",
       "    <tr>\n",
       "      <th>2</th>\n",
       "      <td>10001</td>\n",
       "      <td>Warner Bros.</td>\n",
       "      <td>NaN</td>\n",
       "      <td>NaN</td>\n",
       "    </tr>\n",
       "    <tr>\n",
       "      <th>3</th>\n",
       "      <td>100010</td>\n",
       "      <td>Metro-Goldwyn-Mayer (MGM)</td>\n",
       "      <td>NaN</td>\n",
       "      <td>NaN</td>\n",
       "    </tr>\n",
       "    <tr>\n",
       "      <th>4</th>\n",
       "      <td>100017</td>\n",
       "      <td>MMM Film Zimmermann &amp; Co</td>\n",
       "      <td>NaN</td>\n",
       "      <td>NaN</td>\n",
       "    </tr>\n",
       "  </tbody>\n",
       "</table>\n",
       "</div>"
      ],
      "text/plain": [
       "       id                                  ProdCompany_1  \\\n",
       "0     100                            Handmade Films Ltd.   \n",
       "1   10000  Ministère de la Culture et de la Francophonie   \n",
       "2   10001                                   Warner Bros.   \n",
       "3  100010                      Metro-Goldwyn-Mayer (MGM)   \n",
       "4  100017                       MMM Film Zimmermann & Co   \n",
       "\n",
       "                       ProdCompany_2                  ProdCompany_3  \n",
       "0               Summit Entertainment  PolyGram Filmed Entertainment  \n",
       "1  Ministère des Affaires Étrangères                            NaN  \n",
       "2                                NaN                            NaN  \n",
       "3                                NaN                            NaN  \n",
       "4                                NaN                            NaN  "
      ]
     },
<<<<<<< HEAD
     "execution_count": 88,
=======
     "execution_count": 86,
>>>>>>> 1b85f449f54232d87a6cc6603ff7a84d03f8648b
     "metadata": {},
     "output_type": "execute_result"
    }
   ],
   "source": [
    "df_prcompany.head()"
   ]
  },
  {
   "cell_type": "code",
<<<<<<< HEAD
   "execution_count": 89,
=======
   "execution_count": 87,
>>>>>>> 1b85f449f54232d87a6cc6603ff7a84d03f8648b
   "metadata": {},
   "outputs": [
    {
     "data": {
      "text/plain": [
       "Index(['id', 'ProdCompany_1', 'ProdCompany_2', 'ProdCompany_3'], dtype='object')"
      ]
     },
<<<<<<< HEAD
     "execution_count": 89,
=======
     "execution_count": 87,
>>>>>>> 1b85f449f54232d87a6cc6603ff7a84d03f8648b
     "metadata": {},
     "output_type": "execute_result"
    }
   ],
   "source": [
    "df_prcompany.columns"
   ]
  },
  {
   "cell_type": "code",
   "execution_count": 88,
   "metadata": {},
   "outputs": [
    {
     "data": {
      "text/plain": [
       "Index(['budget', 'id', 'original_title', 'popularity', 'production_companies',\n",
       "       'release_date', 'revenue', 'title', 'vote_average', 'vote_count',\n",
       "       'Collection', 'genres'],\n",
<<<<<<< HEAD
=======
       "      dtype='object')"
      ]
     },
     "execution_count": 88,
     "metadata": {},
     "output_type": "execute_result"
    }
   ],
   "source": [
    "df_movies.columns"
   ]
  },
  {
   "cell_type": "code",
   "execution_count": 89,
   "metadata": {},
   "outputs": [],
   "source": [
    "df_movies = df_movies.drop(columns=['production_companies'])\n",
    "df_movies = pd.merge(df_movies, df_prcompany[['id', 'ProdCompany_1', 'ProdCompany_2', 'ProdCompany_3']], on='id', how='left')"
   ]
  },
  {
   "cell_type": "code",
   "execution_count": 90,
   "metadata": {},
   "outputs": [
    {
     "data": {
      "text/plain": [
       "Index(['budget', 'id', 'original_title', 'popularity', 'release_date',\n",
       "       'revenue', 'title', 'vote_average', 'vote_count', 'Collection',\n",
       "       'genres', 'ProdCompany_1', 'ProdCompany_2', 'ProdCompany_3'],\n",
>>>>>>> 1b85f449f54232d87a6cc6603ff7a84d03f8648b
       "      dtype='object')"
      ]
     },
     "execution_count": 90,
     "metadata": {},
     "output_type": "execute_result"
    }
   ],
   "source": [
    "df_movies.columns"
   ]
  },
  {
   "cell_type": "code",
   "execution_count": 91,
   "metadata": {},
<<<<<<< HEAD
   "outputs": [],
   "source": [
    "df_movies = df_movies.drop(columns=['production_companies'])\n",
    "df_movies = pd.merge(df_movies, df_prcompany[['id', 'ProdCompany_1', 'ProdCompany_2', 'ProdCompany_3']], on='id', how='left')"
   ]
  },
  {
   "cell_type": "code",
   "execution_count": 92,
   "metadata": {},
=======
>>>>>>> 1b85f449f54232d87a6cc6603ff7a84d03f8648b
   "outputs": [
    {
     "data": {
      "text/plain": [
<<<<<<< HEAD
       "Index(['budget', 'id', 'original_title', 'popularity', 'release_date',\n",
       "       'revenue', 'title', 'vote_average', 'vote_count', 'Collection',\n",
       "       'genres', 'ProdCompany_1', 'ProdCompany_2', 'ProdCompany_3'],\n",
       "      dtype='object')"
      ]
     },
     "execution_count": 92,
     "metadata": {},
     "output_type": "execute_result"
    }
   ],
   "source": [
    "df_movies.columns"
   ]
  },
  {
   "cell_type": "code",
   "execution_count": 93,
   "metadata": {},
   "outputs": [
    {
     "data": {
      "text/plain": [
       "(45453, 14)"
      ]
     },
     "execution_count": 93,
=======
       "(45453, 14)"
      ]
     },
     "execution_count": 91,
>>>>>>> 1b85f449f54232d87a6cc6603ff7a84d03f8648b
     "metadata": {},
     "output_type": "execute_result"
    }
   ],
   "source": [
    "df_movies.shape"
   ]
  },
  {
   "cell_type": "markdown",
   "metadata": {},
   "source": [
    "Una vez terminada la depuración de columnas anidadas, se verifican las columnas resultantes y la estructura del nuevo dataset. Se opta por no borrar columnas en esta etapa del proyecto, posteriormente se evaluará si se van a eliminar. "
   ]
  },
  {
   "cell_type": "code",
<<<<<<< HEAD
   "execution_count": 94,
=======
   "execution_count": 92,
>>>>>>> 1b85f449f54232d87a6cc6603ff7a84d03f8648b
   "metadata": {},
   "outputs": [
    {
     "data": {
      "text/plain": [
       "Index(['budget', 'id', 'original_title', 'popularity', 'release_date',\n",
       "       'revenue', 'title', 'vote_average', 'vote_count', 'Collection',\n",
       "       'genres', 'ProdCompany_1', 'ProdCompany_2', 'ProdCompany_3'],\n",
       "      dtype='object')"
      ]
     },
<<<<<<< HEAD
     "execution_count": 94,
=======
     "execution_count": 92,
>>>>>>> 1b85f449f54232d87a6cc6603ff7a84d03f8648b
     "metadata": {},
     "output_type": "execute_result"
    }
   ],
   "source": [
    "df_movies.columns # Para mostrar las columnas resultantes"
   ]
  },
  {
   "cell_type": "code",
<<<<<<< HEAD
   "execution_count": 95,
=======
   "execution_count": 93,
>>>>>>> 1b85f449f54232d87a6cc6603ff7a84d03f8648b
   "metadata": {},
   "outputs": [
    {
     "data": {
      "text/html": [
       "<div>\n",
       "<style scoped>\n",
       "    .dataframe tbody tr th:only-of-type {\n",
       "        vertical-align: middle;\n",
       "    }\n",
       "\n",
       "    .dataframe tbody tr th {\n",
       "        vertical-align: top;\n",
       "    }\n",
       "\n",
       "    .dataframe thead th {\n",
       "        text-align: right;\n",
       "    }\n",
       "</style>\n",
       "<table border=\"1\" class=\"dataframe\">\n",
       "  <thead>\n",
       "    <tr style=\"text-align: right;\">\n",
       "      <th></th>\n",
       "      <th>budget</th>\n",
       "      <th>id</th>\n",
       "      <th>original_title</th>\n",
       "      <th>popularity</th>\n",
       "      <th>release_date</th>\n",
       "      <th>revenue</th>\n",
       "      <th>title</th>\n",
       "      <th>vote_average</th>\n",
       "      <th>vote_count</th>\n",
       "      <th>Collection</th>\n",
       "      <th>genres</th>\n",
       "      <th>ProdCompany_1</th>\n",
       "      <th>ProdCompany_2</th>\n",
       "      <th>ProdCompany_3</th>\n",
       "    </tr>\n",
       "  </thead>\n",
       "  <tbody>\n",
       "    <tr>\n",
       "      <th>0</th>\n",
       "      <td>30000000</td>\n",
       "      <td>862</td>\n",
       "      <td>Toy Story</td>\n",
       "      <td>21.946943</td>\n",
       "      <td>1995-10-30</td>\n",
       "      <td>373554033.0</td>\n",
       "      <td>Toy Story</td>\n",
       "      <td>7.7</td>\n",
       "      <td>5415.0</td>\n",
       "      <td>Toy Story Collection</td>\n",
       "      <td>[Animation, Comedy, Family]</td>\n",
       "      <td>Pixar Animation Studios</td>\n",
       "      <td>NaN</td>\n",
       "      <td>NaN</td>\n",
       "    </tr>\n",
       "    <tr>\n",
       "      <th>1</th>\n",
       "      <td>65000000</td>\n",
       "      <td>8844</td>\n",
       "      <td>Jumanji</td>\n",
       "      <td>17.015539</td>\n",
       "      <td>1995-12-15</td>\n",
       "      <td>262797249.0</td>\n",
       "      <td>Jumanji</td>\n",
       "      <td>6.9</td>\n",
       "      <td>2413.0</td>\n",
       "      <td>NaN</td>\n",
       "      <td>[Adventure, Fantasy, Family]</td>\n",
       "      <td>TriStar Pictures</td>\n",
       "      <td>Teitler Film</td>\n",
       "      <td>Interscope Communications</td>\n",
       "    </tr>\n",
       "    <tr>\n",
       "      <th>2</th>\n",
       "      <td>0</td>\n",
       "      <td>15602</td>\n",
       "      <td>Grumpier Old Men</td>\n",
       "      <td>11.7129</td>\n",
       "      <td>1995-12-22</td>\n",
       "      <td>0.0</td>\n",
       "      <td>Grumpier Old Men</td>\n",
       "      <td>6.5</td>\n",
       "      <td>92.0</td>\n",
       "      <td>Grumpy Old Men Collection</td>\n",
       "      <td>[Romance, Comedy]</td>\n",
       "      <td>Warner Bros.</td>\n",
       "      <td>Lancaster Gate</td>\n",
       "      <td>NaN</td>\n",
       "    </tr>\n",
       "  </tbody>\n",
       "</table>\n",
       "</div>"
      ],
      "text/plain": [
       "     budget     id    original_title popularity release_date      revenue  \\\n",
       "0  30000000    862         Toy Story  21.946943   1995-10-30  373554033.0   \n",
       "1  65000000   8844           Jumanji  17.015539   1995-12-15  262797249.0   \n",
       "2         0  15602  Grumpier Old Men    11.7129   1995-12-22          0.0   \n",
       "\n",
       "              title  vote_average  vote_count                 Collection  \\\n",
       "0         Toy Story           7.7      5415.0       Toy Story Collection   \n",
       "1           Jumanji           6.9      2413.0                        NaN   \n",
       "2  Grumpier Old Men           6.5        92.0  Grumpy Old Men Collection   \n",
       "\n",
       "                         genres            ProdCompany_1   ProdCompany_2  \\\n",
       "0   [Animation, Comedy, Family]  Pixar Animation Studios             NaN   \n",
       "1  [Adventure, Fantasy, Family]         TriStar Pictures    Teitler Film   \n",
       "2             [Romance, Comedy]             Warner Bros.  Lancaster Gate   \n",
       "\n",
       "               ProdCompany_3  \n",
       "0                        NaN  \n",
       "1  Interscope Communications  \n",
       "2                        NaN  "
      ]
     },
<<<<<<< HEAD
     "execution_count": 95,
=======
     "execution_count": 93,
>>>>>>> 1b85f449f54232d87a6cc6603ff7a84d03f8648b
     "metadata": {},
     "output_type": "execute_result"
    }
   ],
   "source": [
    "df_movies.head(3) # para mostrar la nueva estructura del dataset \"movies_dataset.csv\""
   ]
  },
  {
   "cell_type": "code",
<<<<<<< HEAD
   "execution_count": 96,
=======
   "execution_count": 94,
>>>>>>> 1b85f449f54232d87a6cc6603ff7a84d03f8648b
   "metadata": {},
   "outputs": [],
   "source": [
    "# Se reemplazan con cero los valores nulos en las columnas \"revenue\" y \"budget\" \n",
    "df_movies['revenue'] = df_movies['revenue'].fillna(0)\n",
    "df_movies['budget'] = df_movies['budget'].fillna(0)"
   ]
  },
  {
   "cell_type": "code",
<<<<<<< HEAD
   "execution_count": 97,
=======
   "execution_count": 95,
>>>>>>> 1b85f449f54232d87a6cc6603ff7a84d03f8648b
   "metadata": {},
   "outputs": [],
   "source": [
    "#Se eliminan los valores nulos de la columna \"release_date\"\n",
    "df_movies = df_movies.dropna(subset=['release_date'])"
   ]
  },
  {
   "cell_type": "code",
<<<<<<< HEAD
   "execution_count": 98,
=======
   "execution_count": 96,
>>>>>>> 1b85f449f54232d87a6cc6603ff7a84d03f8648b
   "metadata": {},
   "outputs": [
    {
     "data": {
      "text/html": [
       "<div>\n",
       "<style scoped>\n",
       "    .dataframe tbody tr th:only-of-type {\n",
       "        vertical-align: middle;\n",
       "    }\n",
       "\n",
       "    .dataframe tbody tr th {\n",
       "        vertical-align: top;\n",
       "    }\n",
       "\n",
       "    .dataframe thead th {\n",
       "        text-align: right;\n",
       "    }\n",
       "</style>\n",
       "<table border=\"1\" class=\"dataframe\">\n",
       "  <thead>\n",
       "    <tr style=\"text-align: right;\">\n",
       "      <th></th>\n",
       "      <th>revenue</th>\n",
       "      <th>budget</th>\n",
       "      <th>release_date</th>\n",
       "    </tr>\n",
       "  </thead>\n",
       "  <tbody>\n",
       "    <tr>\n",
       "      <th>45432</th>\n",
       "      <td>0.0</td>\n",
       "      <td>0</td>\n",
       "      <td>1906-01-01</td>\n",
       "    </tr>\n",
       "    <tr>\n",
       "      <th>45433</th>\n",
       "      <td>0.0</td>\n",
       "      <td>0</td>\n",
       "      <td>1909-01-01</td>\n",
       "    </tr>\n",
       "    <tr>\n",
       "      <th>45434</th>\n",
       "      <td>0.0</td>\n",
       "      <td>0</td>\n",
       "      <td>1904-03-05</td>\n",
       "    </tr>\n",
       "    <tr>\n",
       "      <th>45435</th>\n",
       "      <td>0.0</td>\n",
       "      <td>0</td>\n",
       "      <td>1904-01-01</td>\n",
       "    </tr>\n",
       "    <tr>\n",
       "      <th>45436</th>\n",
       "      <td>0.0</td>\n",
       "      <td>0</td>\n",
       "      <td>2005-09-13</td>\n",
       "    </tr>\n",
       "    <tr>\n",
       "      <th>45437</th>\n",
       "      <td>0.0</td>\n",
       "      <td>0</td>\n",
       "      <td>1900-01-01</td>\n",
       "    </tr>\n",
       "    <tr>\n",
       "      <th>45438</th>\n",
       "      <td>0.0</td>\n",
       "      <td>0</td>\n",
       "      <td>1900-01-01</td>\n",
       "    </tr>\n",
       "    <tr>\n",
       "      <th>45439</th>\n",
       "      <td>0.0</td>\n",
       "      <td>0</td>\n",
       "      <td>1981-01-01</td>\n",
       "    </tr>\n",
       "    <tr>\n",
       "      <th>45440</th>\n",
       "      <td>0.0</td>\n",
       "      <td>0</td>\n",
       "      <td>2017-07-07</td>\n",
       "    </tr>\n",
       "    <tr>\n",
       "      <th>45441</th>\n",
       "      <td>0.0</td>\n",
       "      <td>0</td>\n",
       "      <td>2015-01-11</td>\n",
       "    </tr>\n",
       "    <tr>\n",
       "      <th>45442</th>\n",
       "      <td>0.0</td>\n",
       "      <td>0</td>\n",
       "      <td>1972-01-01</td>\n",
       "    </tr>\n",
       "    <tr>\n",
       "      <th>45443</th>\n",
       "      <td>0.0</td>\n",
       "      <td>0</td>\n",
       "      <td>1946-03-29</td>\n",
       "    </tr>\n",
       "    <tr>\n",
       "      <th>45444</th>\n",
       "      <td>0.0</td>\n",
       "      <td>0</td>\n",
       "      <td>2000-10-22</td>\n",
       "    </tr>\n",
       "    <tr>\n",
       "      <th>45445</th>\n",
       "      <td>0.0</td>\n",
       "      <td>0</td>\n",
       "      <td>2000-10-03</td>\n",
       "    </tr>\n",
       "    <tr>\n",
       "      <th>45446</th>\n",
       "      <td>0.0</td>\n",
       "      <td>0</td>\n",
       "      <td>1995-01-01</td>\n",
       "    </tr>\n",
       "    <tr>\n",
       "      <th>45447</th>\n",
       "      <td>0.0</td>\n",
       "      <td>0</td>\n",
       "      <td>1991-05-13</td>\n",
       "    </tr>\n",
       "    <tr>\n",
       "      <th>45449</th>\n",
       "      <td>0.0</td>\n",
       "      <td>0</td>\n",
       "      <td>2011-11-17</td>\n",
       "    </tr>\n",
       "    <tr>\n",
       "      <th>45450</th>\n",
       "      <td>0.0</td>\n",
       "      <td>0</td>\n",
       "      <td>2003-08-01</td>\n",
       "    </tr>\n",
       "    <tr>\n",
       "      <th>45451</th>\n",
       "      <td>0.0</td>\n",
       "      <td>0</td>\n",
       "      <td>1917-10-21</td>\n",
       "    </tr>\n",
       "    <tr>\n",
       "      <th>45452</th>\n",
       "      <td>0.0</td>\n",
       "      <td>0</td>\n",
       "      <td>2017-06-09</td>\n",
       "    </tr>\n",
       "  </tbody>\n",
       "</table>\n",
       "</div>"
      ],
      "text/plain": [
       "       revenue budget release_date\n",
       "45432      0.0      0   1906-01-01\n",
       "45433      0.0      0   1909-01-01\n",
       "45434      0.0      0   1904-03-05\n",
       "45435      0.0      0   1904-01-01\n",
       "45436      0.0      0   2005-09-13\n",
       "45437      0.0      0   1900-01-01\n",
       "45438      0.0      0   1900-01-01\n",
       "45439      0.0      0   1981-01-01\n",
       "45440      0.0      0   2017-07-07\n",
       "45441      0.0      0   2015-01-11\n",
       "45442      0.0      0   1972-01-01\n",
       "45443      0.0      0   1946-03-29\n",
       "45444      0.0      0   2000-10-22\n",
       "45445      0.0      0   2000-10-03\n",
       "45446      0.0      0   1995-01-01\n",
       "45447      0.0      0   1991-05-13\n",
       "45449      0.0      0   2011-11-17\n",
       "45450      0.0      0   2003-08-01\n",
       "45451      0.0      0   1917-10-21\n",
       "45452      0.0      0   2017-06-09"
      ]
     },
<<<<<<< HEAD
     "execution_count": 98,
=======
     "execution_count": 96,
>>>>>>> 1b85f449f54232d87a6cc6603ff7a84d03f8648b
     "metadata": {},
     "output_type": "execute_result"
    }
   ],
   "source": [
    "#Se verifican como quedaron los cambios en estas dos columnas\n",
    "df_movies[['revenue', 'budget', 'release_date']].tail(20)"
   ]
  },
  {
   "cell_type": "code",
<<<<<<< HEAD
   "execution_count": 99,
=======
   "execution_count": 97,
>>>>>>> 1b85f449f54232d87a6cc6603ff7a84d03f8648b
   "metadata": {},
   "outputs": [
    {
     "data": {
      "text/plain": [
       "0   1995-10-30\n",
       "1   1995-12-15\n",
       "2   1995-12-22\n",
       "3   1995-12-22\n",
       "4   1995-02-10\n",
       "Name: release_date, dtype: datetime64[ns]"
      ]
     },
<<<<<<< HEAD
     "execution_count": 99,
=======
     "execution_count": 97,
>>>>>>> 1b85f449f54232d87a6cc6603ff7a84d03f8648b
     "metadata": {},
     "output_type": "execute_result"
    }
   ],
   "source": [
    "# Convertir la columna 'release_date' al formato de fecha AAAA-mm-dd\n",
    "df_movies['release_date'] = pd.to_datetime(df_movies['release_date'], format='%Y-%m-%d', errors='coerce')\n",
    "df_movies['release_date'].head()"
   ]
  },
  {
   "cell_type": "code",
<<<<<<< HEAD
   "execution_count": 100,
=======
   "execution_count": 98,
>>>>>>> 1b85f449f54232d87a6cc6603ff7a84d03f8648b
   "metadata": {},
   "outputs": [
    {
     "name": "stderr",
     "output_type": "stream",
     "text": [
<<<<<<< HEAD
      "C:\\Users\\anavi\\AppData\\Local\\Temp\\ipykernel_27660\\3076816620.py:2: FutureWarning: A value is trying to be set on a copy of a DataFrame or Series through chained assignment using an inplace method.\n",
=======
      "C:\\Users\\anavi\\AppData\\Local\\Temp\\ipykernel_5696\\3076816620.py:2: FutureWarning: A value is trying to be set on a copy of a DataFrame or Series through chained assignment using an inplace method.\n",
>>>>>>> 1b85f449f54232d87a6cc6603ff7a84d03f8648b
      "The behavior will change in pandas 3.0. This inplace method will never work because the intermediate object on which we are setting values always behaves as a copy.\n",
      "\n",
      "For example, when doing 'df[col].method(value, inplace=True)', try using 'df.method({col: value}, inplace=True)' or df[col] = df[col].method(value) instead, to perform the operation inplace on the original object.\n",
      "\n",
      "\n",
      "  df_movies['release_date'].fillna(pd.Timestamp('1900-01-01'), inplace=True)\n"
     ]
    },
    {
     "data": {
      "text/plain": [
       "0    1995\n",
       "1    1995\n",
       "2    1995\n",
       "3    1995\n",
       "4    1995\n",
       "Name: release_year, dtype: object"
      ]
     },
<<<<<<< HEAD
     "execution_count": 100,
=======
     "execution_count": 98,
>>>>>>> 1b85f449f54232d87a6cc6603ff7a84d03f8648b
     "metadata": {},
     "output_type": "execute_result"
    }
   ],
   "source": [
    "# Crear la columna 'release_year' extrayendo el año de 'release_date' como cadena de texto\n",
    "df_movies['release_date'].fillna(pd.Timestamp('1900-01-01'), inplace=True)\n",
    "df_movies['release_year'] = df_movies['release_date'].dt.year.astype(int).astype(str)\n",
    "df_movies['release_year'].head()"
   ]
  },
  {
   "cell_type": "code",
<<<<<<< HEAD
   "execution_count": 101,
=======
   "execution_count": 99,
>>>>>>> 1b85f449f54232d87a6cc6603ff7a84d03f8648b
   "metadata": {},
   "outputs": [
    {
     "name": "stdout",
     "output_type": "stream",
     "text": [
      "       revenue      budget     return\n",
      "0  373554033.0  30000000.0  12.451801\n",
      "1  262797249.0  65000000.0   4.043035\n",
      "2          0.0         0.0   0.000000\n",
      "3   81452156.0  16000000.0   5.090760\n",
      "4   76578911.0         0.0   0.000000\n"
     ]
    }
   ],
   "source": [
    "# Asegurarse de que las columnas 'revenue' y 'budget' sean numéricas\n",
    "df_movies['revenue'] = pd.to_numeric(df_movies['revenue'], errors='coerce').fillna(0)\n",
    "df_movies['budget'] = pd.to_numeric(df_movies['budget'], errors='coerce').fillna(0)\n",
    "\n",
    "# Crear la columna 'return' calculando el retorno de inversión\n",
    "df_movies['return'] = df_movies.apply(lambda x: x['revenue'] / x['budget'] if x['budget'] > 0 else 0, axis=1)\n",
    "\n",
    "# Verificar las primeras filas de la nueva columna 'return'\n",
    "print(df_movies[['revenue', 'budget', 'return']].head())"
   ]
  },
  {
   "cell_type": "code",
<<<<<<< HEAD
   "execution_count": 102,
=======
   "execution_count": 100,
>>>>>>> 1b85f449f54232d87a6cc6603ff7a84d03f8648b
   "metadata": {},
   "outputs": [
    {
     "data": {
      "text/html": [
       "<div>\n",
       "<style scoped>\n",
       "    .dataframe tbody tr th:only-of-type {\n",
       "        vertical-align: middle;\n",
       "    }\n",
       "\n",
       "    .dataframe tbody tr th {\n",
       "        vertical-align: top;\n",
       "    }\n",
       "\n",
       "    .dataframe thead th {\n",
       "        text-align: right;\n",
       "    }\n",
       "</style>\n",
       "<table border=\"1\" class=\"dataframe\">\n",
       "  <thead>\n",
       "    <tr style=\"text-align: right;\">\n",
       "      <th></th>\n",
       "      <th>budget</th>\n",
       "      <th>id</th>\n",
       "      <th>original_title</th>\n",
       "      <th>popularity</th>\n",
       "      <th>release_date</th>\n",
       "      <th>revenue</th>\n",
       "      <th>title</th>\n",
       "      <th>vote_average</th>\n",
       "      <th>vote_count</th>\n",
       "      <th>Collection</th>\n",
       "      <th>genres</th>\n",
       "      <th>ProdCompany_1</th>\n",
       "      <th>ProdCompany_2</th>\n",
       "      <th>ProdCompany_3</th>\n",
       "      <th>release_year</th>\n",
       "      <th>return</th>\n",
       "    </tr>\n",
       "  </thead>\n",
       "  <tbody>\n",
       "    <tr>\n",
       "      <th>0</th>\n",
       "      <td>30000000.0</td>\n",
       "      <td>862</td>\n",
       "      <td>Toy Story</td>\n",
       "      <td>21.946943</td>\n",
       "      <td>1995-10-30</td>\n",
       "      <td>373554033.0</td>\n",
       "      <td>Toy Story</td>\n",
       "      <td>7.7</td>\n",
       "      <td>5415.0</td>\n",
       "      <td>Toy Story Collection</td>\n",
       "      <td>[Animation, Comedy, Family]</td>\n",
       "      <td>Pixar Animation Studios</td>\n",
       "      <td>NaN</td>\n",
       "      <td>NaN</td>\n",
       "      <td>1995</td>\n",
       "      <td>12.451801</td>\n",
       "    </tr>\n",
       "    <tr>\n",
       "      <th>1</th>\n",
       "      <td>65000000.0</td>\n",
       "      <td>8844</td>\n",
       "      <td>Jumanji</td>\n",
       "      <td>17.015539</td>\n",
       "      <td>1995-12-15</td>\n",
       "      <td>262797249.0</td>\n",
       "      <td>Jumanji</td>\n",
       "      <td>6.9</td>\n",
       "      <td>2413.0</td>\n",
       "      <td>NaN</td>\n",
       "      <td>[Adventure, Fantasy, Family]</td>\n",
       "      <td>TriStar Pictures</td>\n",
       "      <td>Teitler Film</td>\n",
       "      <td>Interscope Communications</td>\n",
       "      <td>1995</td>\n",
       "      <td>4.043035</td>\n",
       "    </tr>\n",
       "    <tr>\n",
       "      <th>2</th>\n",
       "      <td>0.0</td>\n",
       "      <td>15602</td>\n",
       "      <td>Grumpier Old Men</td>\n",
       "      <td>11.7129</td>\n",
       "      <td>1995-12-22</td>\n",
       "      <td>0.0</td>\n",
       "      <td>Grumpier Old Men</td>\n",
       "      <td>6.5</td>\n",
       "      <td>92.0</td>\n",
       "      <td>Grumpy Old Men Collection</td>\n",
       "      <td>[Romance, Comedy]</td>\n",
       "      <td>Warner Bros.</td>\n",
       "      <td>Lancaster Gate</td>\n",
       "      <td>NaN</td>\n",
       "      <td>1995</td>\n",
       "      <td>0.000000</td>\n",
       "    </tr>\n",
       "  </tbody>\n",
       "</table>\n",
       "</div>"
      ],
      "text/plain": [
       "       budget     id    original_title popularity release_date      revenue  \\\n",
       "0  30000000.0    862         Toy Story  21.946943   1995-10-30  373554033.0   \n",
       "1  65000000.0   8844           Jumanji  17.015539   1995-12-15  262797249.0   \n",
       "2         0.0  15602  Grumpier Old Men    11.7129   1995-12-22          0.0   \n",
       "\n",
       "              title  vote_average  vote_count                 Collection  \\\n",
       "0         Toy Story           7.7      5415.0       Toy Story Collection   \n",
       "1           Jumanji           6.9      2413.0                        NaN   \n",
       "2  Grumpier Old Men           6.5        92.0  Grumpy Old Men Collection   \n",
       "\n",
       "                         genres            ProdCompany_1   ProdCompany_2  \\\n",
       "0   [Animation, Comedy, Family]  Pixar Animation Studios             NaN   \n",
       "1  [Adventure, Fantasy, Family]         TriStar Pictures    Teitler Film   \n",
       "2             [Romance, Comedy]             Warner Bros.  Lancaster Gate   \n",
       "\n",
       "               ProdCompany_3 release_year     return  \n",
       "0                        NaN         1995  12.451801  \n",
       "1  Interscope Communications         1995   4.043035  \n",
       "2                        NaN         1995   0.000000  "
      ]
     },
<<<<<<< HEAD
     "execution_count": 102,
=======
     "execution_count": 100,
>>>>>>> 1b85f449f54232d87a6cc6603ff7a84d03f8648b
     "metadata": {},
     "output_type": "execute_result"
    }
   ],
   "source": [
    "df_movies.head(3)"
   ]
  },
  {
   "cell_type": "code",
<<<<<<< HEAD
   "execution_count": 103,
=======
   "execution_count": 101,
>>>>>>> 1b85f449f54232d87a6cc6603ff7a84d03f8648b
   "metadata": {},
   "outputs": [
    {
     "data": {
      "text/plain": [
       "(45366, 16)"
      ]
     },
<<<<<<< HEAD
     "execution_count": 103,
=======
     "execution_count": 101,
>>>>>>> 1b85f449f54232d87a6cc6603ff7a84d03f8648b
     "metadata": {},
     "output_type": "execute_result"
    }
   ],
   "source": [
    "df_movies.shape"
   ]
  },
  {
   "cell_type": "code",
<<<<<<< HEAD
   "execution_count": 104,
=======
   "execution_count": 102,
>>>>>>> 1b85f449f54232d87a6cc6603ff7a84d03f8648b
   "metadata": {},
   "outputs": [
    {
     "data": {
      "text/plain": [
       "Index(['budget', 'id', 'original_title', 'popularity', 'release_date',\n",
       "       'revenue', 'title', 'vote_average', 'vote_count', 'Collection',\n",
       "       'genres', 'ProdCompany_1', 'ProdCompany_2', 'ProdCompany_3',\n",
       "       'release_year', 'return'],\n",
       "      dtype='object')"
      ]
     },
<<<<<<< HEAD
     "execution_count": 104,
=======
     "execution_count": 102,
>>>>>>> 1b85f449f54232d87a6cc6603ff7a84d03f8648b
     "metadata": {},
     "output_type": "execute_result"
    }
   ],
   "source": [
    "df_movies.columns"
   ]
  },
  {
   "cell_type": "code",
<<<<<<< HEAD
   "execution_count": 105,
=======
   "execution_count": 103,
>>>>>>> 1b85f449f54232d87a6cc6603ff7a84d03f8648b
   "metadata": {},
   "outputs": [
    {
     "name": "stdout",
     "output_type": "stream",
     "text": [
      "El año más reciente es: 2020\n",
      "El año más antiguo es: 1874\n"
     ]
    }
   ],
   "source": [
    "año_maximo = df_movies['release_year'].max()\n",
    "año_minimo = df_movies['release_year'].min()\n",
    "\n",
    "print(f\"El año más reciente es: {año_maximo}\")\n",
    "print(f\"El año más antiguo es: {año_minimo}\")"
   ]
  },
  {
   "cell_type": "code",
<<<<<<< HEAD
   "execution_count": 106,
=======
   "execution_count": 104,
>>>>>>> 1b85f449f54232d87a6cc6603ff7a84d03f8648b
   "metadata": {},
   "outputs": [],
   "source": [
    "df_movies['release_year'] = pd.to_numeric(df_movies['release_year'], errors='coerce') #El año lo tengo como texto, lo paso a numero.\n",
    "df_1990 = df_movies[df_movies['release_year'] <= 1990] # Filtro solo las peliculas hasta 1990 y creo un nuevo data frame"
   ]
  },
  {
   "cell_type": "code",
<<<<<<< HEAD
   "execution_count": 107,
=======
   "execution_count": 105,
>>>>>>> 1b85f449f54232d87a6cc6603ff7a84d03f8648b
   "metadata": {},
   "outputs": [
    {
     "data": {
      "text/plain": [
       "(16118, 16)"
      ]
     },
<<<<<<< HEAD
     "execution_count": 107,
=======
     "execution_count": 105,
>>>>>>> 1b85f449f54232d87a6cc6603ff7a84d03f8648b
     "metadata": {},
     "output_type": "execute_result"
    }
   ],
   "source": [
    "df_1990.shape"
   ]
  },
  {
   "cell_type": "code",
<<<<<<< HEAD
   "execution_count": 108,
=======
   "execution_count": 106,
>>>>>>> 1b85f449f54232d87a6cc6603ff7a84d03f8648b
   "metadata": {},
   "outputs": [],
   "source": [
    "df_1990.to_csv('movies_1990.csv', index=False)"
   ]
  },
  {
   "cell_type": "code",
<<<<<<< HEAD
   "execution_count": 109,
=======
   "execution_count": 107,
>>>>>>> 1b85f449f54232d87a6cc6603ff7a84d03f8648b
   "metadata": {},
   "outputs": [],
   "source": [
    "df = df_movies[df_movies['release_year'] > 1990] #Elimino todas las peliculas del df hasta 1980 del df original"
   ]
  },
  {
   "cell_type": "code",
<<<<<<< HEAD
   "execution_count": 110,
=======
   "execution_count": 108,
>>>>>>> 1b85f449f54232d87a6cc6603ff7a84d03f8648b
   "metadata": {},
   "outputs": [
    {
     "data": {
      "text/plain": [
       "(29248, 16)"
      ]
     },
<<<<<<< HEAD
     "execution_count": 110,
=======
     "execution_count": 108,
>>>>>>> 1b85f449f54232d87a6cc6603ff7a84d03f8648b
     "metadata": {},
     "output_type": "execute_result"
    }
   ],
   "source": [
    "df.shape"
   ]
  },
  {
   "cell_type": "code",
<<<<<<< HEAD
   "execution_count": 111,
=======
   "execution_count": 109,
>>>>>>> 1b85f449f54232d87a6cc6603ff7a84d03f8648b
   "metadata": {},
   "outputs": [
    {
     "data": {
      "text/html": [
       "<div>\n",
       "<style scoped>\n",
       "    .dataframe tbody tr th:only-of-type {\n",
       "        vertical-align: middle;\n",
       "    }\n",
       "\n",
       "    .dataframe tbody tr th {\n",
       "        vertical-align: top;\n",
       "    }\n",
       "\n",
       "    .dataframe thead th {\n",
       "        text-align: right;\n",
       "    }\n",
       "</style>\n",
       "<table border=\"1\" class=\"dataframe\">\n",
       "  <thead>\n",
       "    <tr style=\"text-align: right;\">\n",
       "      <th></th>\n",
       "      <th>budget</th>\n",
       "      <th>id</th>\n",
       "      <th>original_title</th>\n",
       "      <th>popularity</th>\n",
       "      <th>release_date</th>\n",
       "      <th>revenue</th>\n",
       "      <th>title</th>\n",
       "      <th>vote_average</th>\n",
       "      <th>vote_count</th>\n",
       "      <th>Collection</th>\n",
       "      <th>genres</th>\n",
       "      <th>ProdCompany_1</th>\n",
       "      <th>ProdCompany_2</th>\n",
       "      <th>ProdCompany_3</th>\n",
       "      <th>release_year</th>\n",
       "      <th>return</th>\n",
       "    </tr>\n",
       "  </thead>\n",
       "  <tbody>\n",
       "    <tr>\n",
       "      <th>0</th>\n",
       "      <td>30000000.0</td>\n",
       "      <td>862</td>\n",
       "      <td>Toy Story</td>\n",
       "      <td>21.946943</td>\n",
       "      <td>1995-10-30</td>\n",
       "      <td>373554033.0</td>\n",
       "      <td>Toy Story</td>\n",
       "      <td>7.7</td>\n",
       "      <td>5415.0</td>\n",
       "      <td>Toy Story Collection</td>\n",
       "      <td>[Animation, Comedy, Family]</td>\n",
       "      <td>Pixar Animation Studios</td>\n",
       "      <td>NaN</td>\n",
       "      <td>NaN</td>\n",
       "      <td>1995</td>\n",
       "      <td>12.451801</td>\n",
       "    </tr>\n",
       "    <tr>\n",
       "      <th>1</th>\n",
       "      <td>65000000.0</td>\n",
       "      <td>8844</td>\n",
       "      <td>Jumanji</td>\n",
       "      <td>17.015539</td>\n",
       "      <td>1995-12-15</td>\n",
       "      <td>262797249.0</td>\n",
       "      <td>Jumanji</td>\n",
       "      <td>6.9</td>\n",
       "      <td>2413.0</td>\n",
       "      <td>NaN</td>\n",
       "      <td>[Adventure, Fantasy, Family]</td>\n",
       "      <td>TriStar Pictures</td>\n",
       "      <td>Teitler Film</td>\n",
       "      <td>Interscope Communications</td>\n",
       "      <td>1995</td>\n",
       "      <td>4.043035</td>\n",
       "    </tr>\n",
       "    <tr>\n",
       "      <th>2</th>\n",
       "      <td>0.0</td>\n",
       "      <td>15602</td>\n",
       "      <td>Grumpier Old Men</td>\n",
       "      <td>11.7129</td>\n",
       "      <td>1995-12-22</td>\n",
       "      <td>0.0</td>\n",
       "      <td>Grumpier Old Men</td>\n",
       "      <td>6.5</td>\n",
       "      <td>92.0</td>\n",
       "      <td>Grumpy Old Men Collection</td>\n",
       "      <td>[Romance, Comedy]</td>\n",
       "      <td>Warner Bros.</td>\n",
       "      <td>Lancaster Gate</td>\n",
       "      <td>NaN</td>\n",
       "      <td>1995</td>\n",
       "      <td>0.000000</td>\n",
       "    </tr>\n",
       "    <tr>\n",
       "      <th>3</th>\n",
       "      <td>16000000.0</td>\n",
       "      <td>31357</td>\n",
       "      <td>Waiting to Exhale</td>\n",
       "      <td>3.859495</td>\n",
       "      <td>1995-12-22</td>\n",
       "      <td>81452156.0</td>\n",
       "      <td>Waiting to Exhale</td>\n",
       "      <td>6.1</td>\n",
       "      <td>34.0</td>\n",
       "      <td>NaN</td>\n",
       "      <td>[Comedy, Drama, Romance]</td>\n",
       "      <td>Twentieth Century Fox Film Corporation</td>\n",
       "      <td>NaN</td>\n",
       "      <td>NaN</td>\n",
       "      <td>1995</td>\n",
       "      <td>5.090760</td>\n",
       "    </tr>\n",
       "    <tr>\n",
       "      <th>4</th>\n",
       "      <td>0.0</td>\n",
       "      <td>11862</td>\n",
       "      <td>Father of the Bride Part II</td>\n",
       "      <td>8.387519</td>\n",
       "      <td>1995-02-10</td>\n",
       "      <td>76578911.0</td>\n",
       "      <td>Father of the Bride Part II</td>\n",
       "      <td>5.7</td>\n",
       "      <td>173.0</td>\n",
       "      <td>Father of the Bride Collection</td>\n",
       "      <td>[Comedy]</td>\n",
       "      <td>Sandollar Productions</td>\n",
       "      <td>Touchstone Pictures</td>\n",
       "      <td>NaN</td>\n",
       "      <td>1995</td>\n",
       "      <td>0.000000</td>\n",
       "    </tr>\n",
       "  </tbody>\n",
       "</table>\n",
       "</div>"
      ],
      "text/plain": [
       "       budget     id               original_title popularity release_date  \\\n",
       "0  30000000.0    862                    Toy Story  21.946943   1995-10-30   \n",
       "1  65000000.0   8844                      Jumanji  17.015539   1995-12-15   \n",
       "2         0.0  15602             Grumpier Old Men    11.7129   1995-12-22   \n",
       "3  16000000.0  31357            Waiting to Exhale   3.859495   1995-12-22   \n",
       "4         0.0  11862  Father of the Bride Part II   8.387519   1995-02-10   \n",
       "\n",
       "       revenue                        title  vote_average  vote_count  \\\n",
       "0  373554033.0                    Toy Story           7.7      5415.0   \n",
       "1  262797249.0                      Jumanji           6.9      2413.0   \n",
       "2          0.0             Grumpier Old Men           6.5        92.0   \n",
       "3   81452156.0            Waiting to Exhale           6.1        34.0   \n",
       "4   76578911.0  Father of the Bride Part II           5.7       173.0   \n",
       "\n",
       "                       Collection                        genres  \\\n",
       "0            Toy Story Collection   [Animation, Comedy, Family]   \n",
       "1                             NaN  [Adventure, Fantasy, Family]   \n",
       "2       Grumpy Old Men Collection             [Romance, Comedy]   \n",
       "3                             NaN      [Comedy, Drama, Romance]   \n",
       "4  Father of the Bride Collection                      [Comedy]   \n",
       "\n",
       "                            ProdCompany_1        ProdCompany_2  \\\n",
       "0                 Pixar Animation Studios                  NaN   \n",
       "1                        TriStar Pictures         Teitler Film   \n",
       "2                            Warner Bros.       Lancaster Gate   \n",
       "3  Twentieth Century Fox Film Corporation                  NaN   \n",
       "4                   Sandollar Productions  Touchstone Pictures   \n",
       "\n",
       "               ProdCompany_3  release_year     return  \n",
       "0                        NaN          1995  12.451801  \n",
       "1  Interscope Communications          1995   4.043035  \n",
       "2                        NaN          1995   0.000000  \n",
       "3                        NaN          1995   5.090760  \n",
       "4                        NaN          1995   0.000000  "
      ]
     },
<<<<<<< HEAD
     "execution_count": 111,
=======
     "execution_count": 109,
>>>>>>> 1b85f449f54232d87a6cc6603ff7a84d03f8648b
     "metadata": {},
     "output_type": "execute_result"
    }
   ],
   "source": [
    "df_movies.head()"
   ]
  },
  {
   "cell_type": "code",
<<<<<<< HEAD
   "execution_count": 112,
=======
   "execution_count": 110,
>>>>>>> 1b85f449f54232d87a6cc6603ff7a84d03f8648b
   "metadata": {},
   "outputs": [
    {
     "data": {
      "text/html": [
       "<div>\n",
       "<style scoped>\n",
       "    .dataframe tbody tr th:only-of-type {\n",
       "        vertical-align: middle;\n",
       "    }\n",
       "\n",
       "    .dataframe tbody tr th {\n",
       "        vertical-align: top;\n",
       "    }\n",
       "\n",
       "    .dataframe thead th {\n",
       "        text-align: right;\n",
       "    }\n",
       "</style>\n",
       "<table border=\"1\" class=\"dataframe\">\n",
       "  <thead>\n",
       "    <tr style=\"text-align: right;\">\n",
       "      <th></th>\n",
       "      <th>id</th>\n",
       "      <th>job</th>\n",
       "      <th>name</th>\n",
       "    </tr>\n",
       "  </thead>\n",
       "  <tbody>\n",
       "    <tr>\n",
       "      <th>0</th>\n",
       "      <td>862</td>\n",
       "      <td>Director</td>\n",
       "      <td>John Lasseter</td>\n",
       "    </tr>\n",
       "    <tr>\n",
       "      <th>109</th>\n",
       "      <td>8844</td>\n",
       "      <td>Director</td>\n",
       "      <td>Joe Johnston</td>\n",
       "    </tr>\n",
       "    <tr>\n",
       "      <th>122</th>\n",
       "      <td>15602</td>\n",
       "      <td>Director</td>\n",
       "      <td>Howard Deutch</td>\n",
       "    </tr>\n",
       "    <tr>\n",
       "      <th>126</th>\n",
       "      <td>31357</td>\n",
       "      <td>Director</td>\n",
       "      <td>Forest Whitaker</td>\n",
       "    </tr>\n",
       "    <tr>\n",
       "      <th>141</th>\n",
       "      <td>11862</td>\n",
       "      <td>Director</td>\n",
       "      <td>Charles Shyer</td>\n",
       "    </tr>\n",
       "  </tbody>\n",
       "</table>\n",
       "</div>"
      ],
      "text/plain": [
       "        id       job             name\n",
       "0      862  Director    John Lasseter\n",
       "109   8844  Director     Joe Johnston\n",
       "122  15602  Director    Howard Deutch\n",
       "126  31357  Director  Forest Whitaker\n",
       "141  11862  Director    Charles Shyer"
      ]
     },
<<<<<<< HEAD
     "execution_count": 112,
=======
     "execution_count": 110,
>>>>>>> 1b85f449f54232d87a6cc6603ff7a84d03f8648b
     "metadata": {},
     "output_type": "execute_result"
    }
   ],
   "source": [
    "df_crew.head()"
   ]
  },
  {
   "cell_type": "code",
<<<<<<< HEAD
   "execution_count": 113,
=======
   "execution_count": 111,
>>>>>>> 1b85f449f54232d87a6cc6603ff7a84d03f8648b
   "metadata": {},
   "outputs": [
    {
     "data": {
      "text/plain": [
       "Index(['budget', 'id', 'original_title', 'popularity', 'release_date',\n",
       "       'revenue', 'title', 'vote_average', 'vote_count', 'Collection',\n",
       "       'genres', 'ProdCompany_1', 'ProdCompany_2', 'ProdCompany_3',\n",
       "       'release_year', 'return'],\n",
       "      dtype='object')"
      ]
     },
<<<<<<< HEAD
     "execution_count": 113,
=======
     "execution_count": 111,
>>>>>>> 1b85f449f54232d87a6cc6603ff7a84d03f8648b
     "metadata": {},
     "output_type": "execute_result"
    }
   ],
   "source": [
    "df_movies.columns"
   ]
  },
  {
   "cell_type": "markdown",
   "metadata": {},
   "source": [
    "DESARROLLO DE FUNCIONES DE LA PROPUESTA"
   ]
  },
  {
   "cell_type": "code",
<<<<<<< HEAD
   "execution_count": 114,
=======
   "execution_count": 112,
>>>>>>> 1b85f449f54232d87a6cc6603ff7a84d03f8648b
   "metadata": {},
   "outputs": [],
   "source": [
    "from fastapi import FastAPI\n",
    "\n",
    "app = FastAPI()"
   ]
  },
  {
   "cell_type": "markdown",
   "metadata": {},
   "source": [
    "1. Cantidad de filmaciones por mes."
   ]
  },
  {
   "cell_type": "code",
<<<<<<< HEAD
   "execution_count": 115,
=======
   "execution_count": 113,
>>>>>>> 1b85f449f54232d87a6cc6603ff7a84d03f8648b
   "metadata": {},
   "outputs": [],
   "source": [
    "@app.get('/cantidad_filmaciones_mes/{mes}')\n",
    "def cantidad_filmaciones_mes(mes: str):\n",
    "    # Mapeo de meses en español\n",
    "    meses = {\n",
    "        \"enero\": 1, \"febrero\": 2, \"marzo\": 3, \"abril\": 4,\n",
    "        \"mayo\": 5, \"junio\": 6, \"julio\": 7, \"agosto\": 8,\n",
    "        \"septiembre\": 9, \"octubre\": 10, \"noviembre\": 11, \"diciembre\": 12\n",
    "    }\n",
    "    \n",
    "    if mes.lower() not in meses:\n",
    "        return {\"error\": \"Mes inválido\"}\n",
    "    \n",
    "    mes_num = meses[mes.lower()]\n",
    "    cantidad = df_movies[df_movies['release_date'].dt.month == mes_num].shape[0]\n",
    "    \n",
    "    return {f\"{cantidad} películas fueron estrenadas en el mes de {mes.capitalize()}\"}\n"
   ]
  },
  {
   "cell_type": "markdown",
   "metadata": {},
   "source": [
    "2. Cantidad de filmaciones por día"
   ]
  },
  {
   "cell_type": "code",
<<<<<<< HEAD
   "execution_count": 116,
=======
   "execution_count": 114,
>>>>>>> 1b85f449f54232d87a6cc6603ff7a84d03f8648b
   "metadata": {},
   "outputs": [],
   "source": [
    "@app.get('/cantidad_filmaciones_dia/{dia}')\n",
    "def cantidad_filmaciones_dia(dia: int):\n",
    "    cantidad = df_movies[df_movies['release_date'].dt.day == dia].shape[0]\n",
    "    return {f\"{cantidad} películas fueron estrenadas en el día {dia}\"}"
   ]
  },
  {
   "cell_type": "markdown",
   "metadata": {},
   "source": [
    "3. Score de una filmación por título\n"
   ]
  },
  {
   "cell_type": "code",
<<<<<<< HEAD
   "execution_count": 117,
=======
   "execution_count": 115,
>>>>>>> 1b85f449f54232d87a6cc6603ff7a84d03f8648b
   "metadata": {},
   "outputs": [],
   "source": [
    "@app.get('/score_titulo/{titulo}')\n",
    "def score_titulo(titulo: str):\n",
    "    filmacion = df_movies[df_movies['title'].str.lower() == titulo.lower()]\n",
    "    \n",
    "    if filmacion.empty:\n",
    "        return {\"error\": \"Película no encontrada\"}\n",
    "    \n",
    "    score = filmacion['popularity'].values[0]\n",
    "    año_estreno = filmacion['release_year'].values[0]\n",
    "    return {f\"La película {titulo} fue estrenada en el año {año_estreno} con un score de {score}\"}\n"
   ]
  },
  {
   "cell_type": "markdown",
   "metadata": {},
   "source": [
    "4. Votos por título"
   ]
  },
  {
   "cell_type": "code",
<<<<<<< HEAD
   "execution_count": 118,
=======
   "execution_count": 116,
>>>>>>> 1b85f449f54232d87a6cc6603ff7a84d03f8648b
   "metadata": {},
   "outputs": [],
   "source": [
    "@app.get('/votos_titulo/{titulo}')\n",
    "def votos_titulo(titulo: str):\n",
    "    filmacion = df_movies[df_movies['title'].str.lower() == titulo.lower()]\n",
    "    \n",
    "    if filmacion.empty:\n",
    "        return {\"error\": \"Película no encontrada\"}\n",
    "    \n",
    "    votos = filmacion['vote_count'].values[0]\n",
    "    promedio_votos = filmacion['vote_average'].values[0]\n",
    "    \n",
    "    if votos < 2000:\n",
    "        return {\"mensaje\": \"La película no cuenta con suficientes valoraciones (mínimo 2000)\"}\n",
    "    \n",
    "    return {f\"La película {titulo} tiene un total de {votos} valoraciones, con un promedio de {promedio_votos}\"}"
   ]
  },
  {
   "cell_type": "markdown",
   "metadata": {},
   "source": [
    "5. Datos del actor"
   ]
  },
  {
   "cell_type": "code",
<<<<<<< HEAD
   "execution_count": 119,
=======
   "execution_count": 117,
>>>>>>> 1b85f449f54232d87a6cc6603ff7a84d03f8648b
   "metadata": {},
   "outputs": [],
   "source": [
    "@app.get('/get_actor/{nombre_actor}')\n",
    "def get_actor(nombre_actor: str):\n",
    "    actor_data = df_combined[(df_combined['Name'].str.lower() == nombre_actor.lower()) & (df_combined['Rol'] != 'Director')]\n",
    "    \n",
    "    if actor_data.empty:\n",
    "        return {\"error\": \"Actor no encontrado\"}\n",
    "    \n",
    "    cantidad_peliculas = actor_data.shape[0]\n",
    "    retorno_total = actor_data['return'].sum()\n",
    "    retorno_promedio = retorno_total / cantidad_peliculas\n",
    "    \n",
    "    return {f\"El actor {nombre_actor} ha participado en {cantidad_peliculas} películas, con un retorno total de {retorno_total} y un promedio de {retorno_promedio} por filmación\"}\n"
   ]
  },
  {
   "cell_type": "markdown",
   "metadata": {},
   "source": [
    "6.  Datos del director"
   ]
  },
  {
   "cell_type": "code",
<<<<<<< HEAD
   "execution_count": 120,
=======
   "execution_count": 118,
>>>>>>> 1b85f449f54232d87a6cc6603ff7a84d03f8648b
   "metadata": {},
   "outputs": [],
   "source": [
    "@app.get('/get_director/{nombre_director}')\n",
    "def get_director(nombre_director: str):\n",
    "    director_data = df_combined[(df_combined['Name'].str.lower() == nombre_director.lower()) & (df_combined['Rol'] == 'Director')]\n",
    "    \n",
    "    if director_data.empty:\n",
    "        return {\"error\": \"Director no encontrado\"}\n",
    "    \n",
    "    peliculas_info = []\n",
    "    for _, row in director_data.iterrows():\n",
    "        pelicula = df_movies[df_movies['id'] == row['Id']]\n",
    "        if not pelicula.empty:\n",
    "            titulo = pelicula['title'].values[0]\n",
    "            fecha_lanzamiento = pelicula['release_date'].values[0]\n",
    "            retorno = pelicula['return'].values[0]\n",
    "            costo = pelicula['budget'].values[0]\n",
    "            ganancia = pelicula['revenue'].values[0]\n",
    "            \n",
    "            peliculas_info.append({\n",
    "                \"título\": titulo,\n",
    "                \"fecha de lanzamiento\": fecha_lanzamiento,\n",
    "                \"retorno\": retorno,\n",
    "                \"costo\": costo,\n",
    "                \"ganancia\": ganancia})\n",
    "    \n",
    "    return {f\"El director {nombre_director} ha dirigido las siguientes películas\": peliculas_info}"
   ]
  },
  {
   "cell_type": "code",
   "execution_count": null,
   "metadata": {},
   "outputs": [],
   "source": [
    "123 prueba"
   ]
  }
 ],
 "metadata": {
  "kernelspec": {
   "display_name": "Python 3",
   "language": "python",
   "name": "python3"
  },
  "language_info": {
   "codemirror_mode": {
    "name": "ipython",
    "version": 3
   },
   "file_extension": ".py",
   "mimetype": "text/x-python",
   "name": "python",
   "nbconvert_exporter": "python",
   "pygments_lexer": "ipython3",
   "version": "3.10.11"
  }
 },
 "nbformat": 4,
 "nbformat_minor": 2
}
